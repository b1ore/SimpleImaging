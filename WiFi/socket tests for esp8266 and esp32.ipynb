{
 "cells": [
  {
   "cell_type": "markdown",
   "id": "322ced0e",
   "metadata": {},
   "source": [
    "## ESP8266"
   ]
  },
  {
   "cell_type": "markdown",
   "id": "1a7e2498",
   "metadata": {},
   "source": [
    "### TCP client STA 透传模式（PC端为server）"
   ]
  },
  {
   "cell_type": "code",
   "execution_count": null,
   "id": "bfb20e00",
   "metadata": {},
   "outputs": [],
   "source": [
    "from socket import *\n",
    "\n",
    "serverPort = 12000"
   ]
  },
  {
   "cell_type": "code",
   "execution_count": null,
   "id": "13e2e204",
   "metadata": {},
   "outputs": [],
   "source": [
    "serverSocket = socket(AF_INET, SOCK_STREAM)\n",
    "serverSocket.bind(('192.168.31.86', serverPort))"
   ]
  },
  {
   "cell_type": "code",
   "execution_count": null,
   "id": "8ae13fce",
   "metadata": {},
   "outputs": [],
   "source": [
    "serverSocket"
   ]
  },
  {
   "cell_type": "code",
   "execution_count": null,
   "id": "023bd3a2",
   "metadata": {},
   "outputs": [],
   "source": [
    "serverSocket.listen(1)"
   ]
  },
  {
   "cell_type": "code",
   "execution_count": null,
   "id": "4c937991",
   "metadata": {},
   "outputs": [],
   "source": [
    "connectionSocket, addr = serverSocket.accept() #get the connection socket"
   ]
  },
  {
   "cell_type": "code",
   "execution_count": null,
   "id": "fbe429f5",
   "metadata": {},
   "outputs": [],
   "source": [
    "connectionSocket"
   ]
  },
  {
   "cell_type": "code",
   "execution_count": null,
   "id": "1832895a",
   "metadata": {},
   "outputs": [],
   "source": [
    "addr"
   ]
  },
  {
   "cell_type": "code",
   "execution_count": null,
   "id": "65e451b3",
   "metadata": {},
   "outputs": [],
   "source": [
    "connectionSocket.send(\"from pc\".encode(\"utf-8\"))"
   ]
  },
  {
   "cell_type": "code",
   "execution_count": null,
   "id": "dc036b55",
   "metadata": {},
   "outputs": [],
   "source": [
    "import time\n",
    "index = 0\n",
    "while True:\n",
    "    time.sleep(2)\n",
    "    connectionSocket.send(\"{}.Hello!\\r\\n\".format(index).encode(\"utf-8\"))\n",
    "    index += 1"
   ]
  },
  {
   "cell_type": "code",
   "execution_count": null,
   "id": "6ab0ef3c",
   "metadata": {},
   "outputs": [],
   "source": [
    "import time\n",
    "indexRecv = 1\n",
    "while True:\n",
    "    time.sleep(2)\n",
    "    sentence = connectionSocket.recv(20).decode(\"utf-8\")\n",
    "    print(\"Receive Info {}: {}\".format(indexRecv, sentence))\n",
    "    indexRecv += 1"
   ]
  },
  {
   "cell_type": "code",
   "execution_count": null,
   "id": "90623a10",
   "metadata": {},
   "outputs": [],
   "source": [
    "serverSocket.close()"
   ]
  },
  {
   "cell_type": "markdown",
   "id": "dbe916ce",
   "metadata": {},
   "source": [
    "### UDP STA 透传模式（PC为server)"
   ]
  },
  {
   "cell_type": "code",
   "execution_count": null,
   "id": "90c06d86",
   "metadata": {},
   "outputs": [],
   "source": [
    "udp_serverPort = 12001\n",
    "udp_serverSocket = socket(AF_INET, SOCK_DGRAM)\n",
    "udp_serverSocket.bind(('192.168.31.86', udp_serverPort))"
   ]
  },
  {
   "cell_type": "code",
   "execution_count": null,
   "id": "b2459678",
   "metadata": {},
   "outputs": [],
   "source": [
    "#这里recvfrom method会等待直到收到信息\n",
    "message, clientAddr = udp_serverSocket.recvfrom(100)"
   ]
  },
  {
   "cell_type": "code",
   "execution_count": null,
   "id": "07b46bd4",
   "metadata": {},
   "outputs": [],
   "source": [
    "message"
   ]
  },
  {
   "cell_type": "code",
   "execution_count": null,
   "id": "b47732e1",
   "metadata": {},
   "outputs": [],
   "source": [
    "clientAddr"
   ]
  },
  {
   "cell_type": "code",
   "execution_count": null,
   "id": "49251c4a",
   "metadata": {},
   "outputs": [],
   "source": [
    "udp_serverSocket.sendto(\"test from pc\\r\\n\".encode(\"utf-8\"), clientAddr)\n",
    "# return the count of sended bytes"
   ]
  },
  {
   "cell_type": "code",
   "execution_count": null,
   "id": "c40834b1",
   "metadata": {},
   "outputs": [],
   "source": [
    "udp_serverSocket.close()"
   ]
  },
  {
   "cell_type": "markdown",
   "id": "e290965f",
   "metadata": {},
   "source": [
    "### TCP AP 透传模式 (pc端server)"
   ]
  },
  {
   "cell_type": "code",
   "execution_count": null,
   "id": "a1c3ef95",
   "metadata": {},
   "outputs": [],
   "source": [
    "from socket import *\n",
    "\n",
    "ap_tcp_serverPort = 12000"
   ]
  },
  {
   "cell_type": "code",
   "execution_count": null,
   "id": "7a4e333d",
   "metadata": {},
   "outputs": [],
   "source": [
    "ap_tcp_serverSocket = socket(AF_INET, SOCK_STREAM)\n",
    "ap_tcp_serverSocket.bind(('192.168.4.2', ap_tcp_serverPort))"
   ]
  },
  {
   "cell_type": "code",
   "execution_count": null,
   "id": "be0a30cd",
   "metadata": {},
   "outputs": [],
   "source": [
    "ap_tcp_serverSocket"
   ]
  },
  {
   "cell_type": "code",
   "execution_count": null,
   "id": "9572b348",
   "metadata": {},
   "outputs": [],
   "source": [
    "ap_tcp_serverSocket.listen(1)"
   ]
  },
  {
   "cell_type": "code",
   "execution_count": null,
   "id": "824fdd8e",
   "metadata": {},
   "outputs": [],
   "source": [
    "connectionSocket, addr = ap_tcp_serverSocket.accept() #get the connection socket"
   ]
  },
  {
   "cell_type": "code",
   "execution_count": null,
   "id": "f120a876",
   "metadata": {},
   "outputs": [],
   "source": [
    "connectionSocket"
   ]
  },
  {
   "cell_type": "code",
   "execution_count": null,
   "id": "ca4d23ef",
   "metadata": {},
   "outputs": [],
   "source": [
    "addr"
   ]
  },
  {
   "cell_type": "code",
   "execution_count": null,
   "id": "7c7a906e",
   "metadata": {},
   "outputs": [],
   "source": [
    "import time\n",
    "\n",
    "TRX_INDEX = 1\n",
    "while True:\n",
    "    time.sleep(2)\n",
    "    connectionSocket.send(\"Hello from PC #{}\\r\\n\".format(TRX_INDEX).encode(\"utf-8\"))\n",
    "    TRX_INDEX += 1"
   ]
  },
  {
   "cell_type": "code",
   "execution_count": null,
   "id": "8459bf95",
   "metadata": {},
   "outputs": [],
   "source": [
    "RECV_INDEX = 1\n",
    "while True:\n",
    "    time.sleep(2)\n",
    "    print(\"INFO #{}:{}\".format(RECV_INDEX, connectionSocket.recv(20).decode()))\n",
    "    RECV_INDEX += 1"
   ]
  },
  {
   "cell_type": "code",
   "execution_count": null,
   "id": "4dffa30f",
   "metadata": {},
   "outputs": [],
   "source": [
    "ap_tcp_serverSocket.close()"
   ]
  },
  {
   "cell_type": "markdown",
   "id": "d8d96f8c",
   "metadata": {},
   "source": [
    "### 一些其他测试"
   ]
  },
  {
   "cell_type": "code",
   "execution_count": 6,
   "id": "0d6088d5",
   "metadata": {},
   "outputs": [],
   "source": [
    "from socket import *\n",
    "\n",
    "ap_tcp_serverPort = 12000\n",
    "\n",
    "ap_tcp_serverSocket = socket(AF_INET, SOCK_STREAM)\n",
    "ap_tcp_serverSocket.bind(('192.168.4.2', ap_tcp_serverPort))"
   ]
  },
  {
   "cell_type": "code",
   "execution_count": 2,
   "id": "20401a21",
   "metadata": {},
   "outputs": [],
   "source": [
    "ap_tcp_serverSocket.listen(1)"
   ]
  },
  {
   "cell_type": "code",
   "execution_count": 4,
   "id": "2299d499",
   "metadata": {},
   "outputs": [],
   "source": [
    "connectionSocket, addr = ap_tcp_serverSocket.accept()"
   ]
  },
  {
   "cell_type": "code",
   "execution_count": 5,
   "id": "197e2652",
   "metadata": {},
   "outputs": [
    {
     "data": {
      "text/plain": [
       "<socket.socket fd=1432, family=AddressFamily.AF_INET, type=SocketKind.SOCK_STREAM, proto=0, laddr=('192.168.4.2', 12000), raddr=('192.168.4.1', 12873)>"
      ]
     },
     "execution_count": 5,
     "metadata": {},
     "output_type": "execute_result"
    }
   ],
   "source": [
    "connectionSocket"
   ]
  },
  {
   "cell_type": "code",
   "execution_count": 6,
   "id": "598250fd",
   "metadata": {},
   "outputs": [
    {
     "name": "stdout",
     "output_type": "stream",
     "text": [
      "INFO #1:b'0+0+3663\\r\\n'\n",
      "INFO #2:b'0+1+2786\\r\\n0+2+2340\\r\\n'\n",
      "INFO #3:b'0+3+2142\\r\\n1+0+3697\\r\\n'\n",
      "INFO #4:b'1+1+2751\\r\\n1+2+2294\\r\\n'\n",
      "INFO #5:b'1+3+2096\\r\\n2+0+3675\\r\\n'\n",
      "INFO #6:b'2+1+2729\\r\\n2+2+2274\\r\\n'\n",
      "INFO #7:b'2+3+2072\\r\\n3+0+3685\\r\\n'\n",
      "INFO #8:b'3+1+2718\\r\\n3+2+2266\\r\\n3+3+2063\\r\\n'\n",
      "INFO #9:b'0+0+3672\\r\\n'\n",
      "INFO #10:b'0+1+2709\\r\\n0+2+2276\\r\\n'\n",
      "INFO #11:b'0+3+2076\\r\\n1+0+3678\\r\\n'\n",
      "INFO #12:b'1+1+2703\\r\\n1+2+2261\\r\\n'\n",
      "INFO #13:b'1+3+2061\\r\\n2+0+3678\\r\\n'\n",
      "INFO #14:b'2+1+2701\\r\\n2+2+2256\\r\\n'\n",
      "INFO #15:b'2+3+2055\\r\\n3+0+3671\\r\\n'\n",
      "INFO #16:b'3+1+2700\\r\\n3+2+2255\\r\\n3+3+2052\\r\\n'\n",
      "INFO #17:b'0+0+3678\\r\\n'\n",
      "INFO #18:b'0+1+2712\\r\\n0+2+2276\\r\\n'\n",
      "INFO #19:b'0+3+2074\\r\\n1+0+3672\\r\\n'\n",
      "INFO #20:b'1+1+2705\\r\\n1+2+2262\\r\\n'\n",
      "INFO #21:b'1+3+2061\\r\\n2+0+3677\\r\\n'\n",
      "INFO #22:b'2+1+2702\\r\\n2+2+2257\\r\\n'\n",
      "INFO #23:b'2+3+2054\\r\\n3+0+3676\\r\\n'\n",
      "INFO #24:b'3+1+2700\\r\\n3+2+2255\\r\\n'\n",
      "INFO #25:b'3+3+2053\\r\\n'\n",
      "INFO #26:b'0+0+3671\\r\\n0+1+2710\\r\\n0+2+2272\\r\\n'\n",
      "INFO #27:b'0+3+2068\\r\\n1+0+3684\\r\\n'\n",
      "INFO #28:b'1+1+2705\\r\\n1+2+2261\\r\\n'\n",
      "INFO #29:b'1+3+2059\\r\\n2+0+3671\\r\\n'\n",
      "INFO #30:b'2+1+2701\\r\\n2+2+2256\\r\\n'\n",
      "INFO #31:b'2+3+2053\\r\\n3+0+3690\\r\\n'\n",
      "INFO #32:b'3+1+2703\\r\\n3+2+2256\\r\\n'\n",
      "INFO #33:b'3+3+2053\\r\\n'\n",
      "INFO #34:b'0+0+3685\\r\\n0+1+2711\\r\\n0+2+2276\\r\\n'\n",
      "INFO #35:b'0+3+2075\\r\\n1+0+3660\\r\\n'\n",
      "INFO #36:b'1+1+2702\\r\\n1+2+2260\\r\\n'\n",
      "INFO #37:b'1+3+2060\\r\\n2+0+3671\\r\\n'\n",
      "INFO #38:b'2+1+2699\\r\\n2+2+2255\\r\\n'\n",
      "INFO #39:b'2+3+2053\\r\\n3+0+3677\\r\\n'\n",
      "INFO #40:b'3+1+2699\\r\\n3+2+2254\\r\\n'\n",
      "INFO #41:b'3+3+2051\\r\\n'\n",
      "INFO #42:b'0+0+3694\\r\\n0+1+2713\\r\\n0+2+2277\\r\\n'\n",
      "INFO #43:b'0+3+2074\\r\\n1+0+3679\\r\\n'\n",
      "INFO #44:b'1+1+2706\\r\\n1+2+2263\\r\\n'\n",
      "INFO #45:b'1+3+2062\\r\\n2+0+3659\\r\\n'\n",
      "INFO #46:b'2+1+2700\\r\\n2+2+2256\\r\\n'\n",
      "INFO #47:b'2+3+2054\\r\\n3+0+3670\\r\\n'\n",
      "INFO #48:b'3+1+2698\\r\\n3+2+2254\\r\\n'\n",
      "INFO #49:b'3+3+2051\\r\\n'\n",
      "INFO #50:b'0+0+3688\\r\\n0+1+2711\\r\\n'\n",
      "INFO #51:b'0+2+2273\\r\\n0+3+2069\\r\\n'\n",
      "INFO #52:b'1+0+3684\\r\\n1+1+2707\\r\\n1+2+2262\\r\\n'\n",
      "INFO #53:b'1+3+2059\\r\\n2+0+3678\\r\\n'\n",
      "INFO #54:b'2+1+2703\\r\\n2+2+2258\\r\\n'\n",
      "INFO #55:b'2+3+2055\\r\\n3+0+3671\\r\\n'\n",
      "INFO #56:b'3+1+2700\\r\\n3+2+2256\\r\\n'\n",
      "INFO #57:b'3+3+2052\\r\\n'\n",
      "INFO #58:b'0+0+3667\\r\\n0+1+2708\\r\\n'\n",
      "INFO #59:b'0+2+2274\\r\\n0+3+2073\\r\\n'\n",
      "INFO #60:b'1+0+3667\\r\\n1+1+2702\\r\\n'\n",
      "INFO #61:b'1+2+2259\\r\\n1+3+2059\\r\\n2+0+3677\\r\\n'\n",
      "INFO #62:b'2+1+2700\\r\\n2+2+2255\\r\\n'\n",
      "INFO #63:b'2+3+2053\\r\\n3+0+3688\\r\\n'\n",
      "INFO #64:b'3+1+2702\\r\\n3+2+2256\\r\\n'\n",
      "INFO #65:b'3+3+2052\\r\\n'\n",
      "INFO #66:b'0+0+3682\\r\\n0+1+2713\\r\\n'\n",
      "INFO #67:b'0+2+2278\\r\\n0+3+2076\\r\\n'\n",
      "INFO #68:b'1+0+3673\\r\\n1+1+2706\\r\\n'\n",
      "INFO #69:b'1+2+2263\\r\\n1+3+2062\\r\\n'\n",
      "INFO #70:b'2+0+3677\\r\\n2+1+2702\\r\\n2+2+2257\\r\\n'\n",
      "INFO #71:b'2+3+2055\\r\\n3+0+3677\\r\\n'\n",
      "INFO #72:b'3+1+2701\\r\\n3+2+2256\\r\\n'\n",
      "INFO #73:b'3+3+2052\\r\\n0+0+3685\\r\\n'\n",
      "INFO #74:b'0+1+2712\\r\\n0+2+2275\\r\\n0+3+2070\\r\\n'\n",
      "INFO #75:b'1+0+3672\\r\\n1+1+2705\\r\\n'\n",
      "INFO #76:b'1+2+2262\\r\\n1+3+2060\\r\\n'\n",
      "INFO #77:b'2+0+3665\\r\\n2+1+2700\\r\\n'\n",
      "INFO #78:b'2+2+2256\\r\\n2+3+2053\\r\\n3+0+3695\\r\\n'\n",
      "INFO #79:b'3+1+2703\\r\\n3+2+2256\\r\\n'\n",
      "INFO #80:b'3+3+2052\\r\\n'\n",
      "INFO #81:b'0+0+3672\\r\\n0+1+2708\\r\\n'\n",
      "INFO #82:b'0+2+2273\\r\\n0+3+2071\\r\\n'\n",
      "INFO #83:b'1+0+3678\\r\\n1+1+2704\\r\\n'\n",
      "INFO #84:b'1+2+2260\\r\\n1+3+2059\\r\\n'\n",
      "INFO #85:b'2+0+3671\\r\\n2+1+2700\\r\\n'\n",
      "INFO #86:b'2+2+2255\\r\\n2+3+2053\\r\\n3+0+3683\\r\\n'\n",
      "INFO #87:b'3+1+2700\\r\\n3+2+2255\\r\\n'\n",
      "INFO #88:b'3+3+2052\\r\\n'\n",
      "INFO #89:b'0+0+3679\\r\\n0+1+2712\\r\\n'\n",
      "INFO #90:b'0+2+2278\\r\\n0+3+2076\\r\\n'\n",
      "INFO #91:b'1+0+3673\\r\\n1+1+2705\\r\\n'\n",
      "INFO #92:b'1+2+2262\\r\\n1+3+2062\\r\\n'\n",
      "INFO #93:b'2+0+3665\\r\\n2+1+2700\\r\\n2+2+2256\\r\\n2+3+2054\\r\\n3+0+3683\\r\\n'\n",
      "INFO #94:b'3+1+2700\\r\\n3+2+2255\\r\\n'\n",
      "INFO #95:b'3+3+2052\\r\\n'\n"
     ]
    },
    {
     "ename": "ConnectionResetError",
     "evalue": "[WinError 10054] 远程主机强迫关闭了一个现有的连接。",
     "output_type": "error",
     "traceback": [
      "\u001b[1;31m---------------------------------------------------------------------------\u001b[0m",
      "\u001b[1;31mConnectionResetError\u001b[0m                      Traceback (most recent call last)",
      "Input \u001b[1;32mIn [6]\u001b[0m, in \u001b[0;36m<cell line: 4>\u001b[1;34m()\u001b[0m\n\u001b[0;32m      2\u001b[0m RECV_INDEX \u001b[38;5;241m=\u001b[39m \u001b[38;5;241m1\u001b[39m\n\u001b[0;32m      3\u001b[0m \u001b[38;5;28;01mwhile\u001b[39;00m \u001b[38;5;28;01mTrue\u001b[39;00m:\n\u001b[1;32m----> 4\u001b[0m     \u001b[38;5;28mprint\u001b[39m(\u001b[38;5;124m\"\u001b[39m\u001b[38;5;124mINFO #\u001b[39m\u001b[38;5;132;01m{}\u001b[39;00m\u001b[38;5;124m:\u001b[39m\u001b[38;5;132;01m{}\u001b[39;00m\u001b[38;5;124m\"\u001b[39m\u001b[38;5;241m.\u001b[39mformat(RECV_INDEX, \u001b[43mconnectionSocket\u001b[49m\u001b[38;5;241;43m.\u001b[39;49m\u001b[43mrecv\u001b[49m\u001b[43m(\u001b[49m\u001b[38;5;241;43m50\u001b[39;49m\u001b[43m)\u001b[49m))\n\u001b[0;32m      5\u001b[0m     RECV_INDEX \u001b[38;5;241m+\u001b[39m\u001b[38;5;241m=\u001b[39m \u001b[38;5;241m1\u001b[39m\n",
      "\u001b[1;31mConnectionResetError\u001b[0m: [WinError 10054] 远程主机强迫关闭了一个现有的连接。"
     ]
    }
   ],
   "source": [
    "import time\n",
    "RECV_INDEX = 1\n",
    "while True:\n",
    "    print(\"INFO #{}:{}\".format(RECV_INDEX, connectionSocket.recv(50)))\n",
    "    RECV_INDEX += 1"
   ]
  },
  {
   "cell_type": "code",
   "execution_count": 7,
   "id": "ea6577fc",
   "metadata": {},
   "outputs": [],
   "source": [
    "ap_tcp_serverSocket.close()"
   ]
  },
  {
   "cell_type": "markdown",
   "id": "93e18fde",
   "metadata": {},
   "source": [
    "## ESP32"
   ]
  },
  {
   "cell_type": "markdown",
   "id": "334c6d28",
   "metadata": {},
   "source": [
    "### TCP AP 客户端测试"
   ]
  },
  {
   "cell_type": "code",
   "execution_count": 6,
   "id": "d6e6c1a0",
   "metadata": {},
   "outputs": [],
   "source": [
    "from socket import *\n",
    "\n",
    "ap_server_ip = \"192.168.4.1\"\n",
    "ap_server_port = 80\n",
    "ap_client_ip = \"192.168.4.2\"\n",
    "ap_client_port = 12000\n",
    "\n",
    "ap_client = socket(AF_INET, SOCK_STREAM)\n",
    "ap_client.bind((ap_client_ip, ap_client_port))"
   ]
  },
  {
   "cell_type": "code",
   "execution_count": 7,
   "id": "cb284cb3",
   "metadata": {},
   "outputs": [],
   "source": [
    "ap_client.connect((ap_server_ip, ap_server_port))"
   ]
  },
  {
   "cell_type": "code",
   "execution_count": 8,
   "id": "4f14095f",
   "metadata": {},
   "outputs": [
    {
     "name": "stdout",
     "output_type": "stream",
     "text": [
      "INFO #1:b'0+0+0\\r\\n0+1+0\\r\\n0+2+0\\r\\n0+3+0\\r\\n1+0+0\\r\\n1+1+0\\r\\n1+2+0\\r\\n1'\n",
      "INFO #2:b'+3+0\\r\\n2+0+0\\r\\n2+1+0\\r\\n2+2+0\\r\\n2+3+0\\r\\n3+0+0\\r\\n3+1+0\\r\\n3+'\n",
      "INFO #3:b'2+0\\r\\n3+3+0\\r\\n0+0+0\\r\\n0+1+0\\r\\n0+2+0\\r\\n0+3+0\\r\\n1+0+0\\r\\n1+1'\n",
      "INFO #4:b'+0\\r\\n1+2+0\\r\\n1+3+0\\r\\n2+0+0\\r\\n2+1+0\\r\\n2+2+0\\r\\n2+3+0\\r\\n3+0+'\n",
      "INFO #5:b'0\\r\\n3+1+0\\r\\n3+2+0\\r\\n3+3+0\\r\\n0+0+0\\r\\n0+1+0\\r\\n0+2+0\\r\\n0+3+0'\n",
      "INFO #6:b'\\r\\n1+0+0\\r\\n1+1+0\\r\\n1+2+0\\r\\n1+3+0\\r\\n2+0+0\\r\\n2+1+0\\r\\n2+2+0\\r'\n",
      "INFO #7:b'\\n2+3+0\\r\\n3+0+0\\r\\n3+1+0\\r\\n3+2+0\\r\\n3+3+0\\r\\n0+0+0\\r\\n0+1+0\\r\\n'\n",
      "INFO #8:b'0+2+0\\r\\n0+3+0\\r\\n1+0+0\\r\\n1+1+0\\r\\n1+2+0\\r\\n1+3+0\\r\\n2+0+0\\r\\n2'\n",
      "INFO #9:b'+1+0\\r\\n2+2+0\\r\\n2+3+0\\r\\n3+0+0\\r\\n3+1+0\\r\\n3+2+0\\r\\n3+3+0\\r\\n0+'\n",
      "INFO #10:b'0+0\\r\\n0+1+0\\r\\n0+2+0\\r\\n0+3+0\\r\\n1+0+0\\r\\n1+1+0\\r\\n1+2+0\\r\\n1+3'\n",
      "INFO #11:b'+0\\r\\n2+0+0\\r\\n2+1+0\\r\\n2+2+0\\r\\n2+3+0\\r\\n3+0+0\\r\\n3+1+0\\r\\n3+2+'\n",
      "INFO #12:b'0\\r\\n3+3+0\\r\\n0+0+0\\r\\n0+1+0\\r\\n0+2+0\\r\\n0+3+0\\r\\n1+0+0\\r\\n1+1+0'\n",
      "INFO #13:b'\\r\\n1+2+0\\r\\n1+3+0\\r\\n2+0+0\\r\\n2+1+0\\r\\n2+2+0\\r\\n2+3+0\\r\\n3+0+0\\r'\n",
      "INFO #14:b'\\n3+1+0\\r\\n3+2+0\\r\\n3+3+0\\r\\n0+0+0\\r\\n0+1+0\\r\\n0+2+0\\r\\n0+3+0\\r\\n'\n",
      "INFO #15:b'1+0+0\\r\\n1+1+0\\r\\n1+2+0\\r\\n1+3+0\\r\\n2+0+0\\r\\n2+1+0\\r\\n2+2+0\\r\\n2'\n",
      "INFO #16:b'+3+0\\r\\n3+0+0\\r\\n3+1+0\\r\\n3+2+0\\r\\n3+3+0\\r\\n0+0+0\\r\\n0+1+0\\r\\n0+'\n",
      "INFO #17:b'2+0\\r\\n0+3+0\\r\\n1+0+0\\r\\n1+1+0\\r\\n1+2+0\\r\\n1+3+0\\r\\n2+0+0\\r\\n2+1'\n",
      "INFO #18:b'+0\\r\\n2+2+0\\r\\n2+3+0\\r\\n3+0+0\\r\\n3+1+0\\r\\n3+2+0\\r\\n3+3+0\\r\\n0+0+'\n",
      "INFO #19:b'0\\r\\n0+1+0\\r\\n0+2+0\\r\\n0+3+0\\r\\n1+0+0\\r\\n1+1+0\\r\\n1+2+0\\r\\n1+3+0'\n",
      "INFO #20:b'\\r\\n2+0+0\\r\\n2+1+0\\r\\n2+2+0\\r\\n2+3+0\\r\\n3+0+0\\r\\n3+1+0\\r\\n3+2+0\\r'\n",
      "INFO #21:b'\\n3+3+0\\r\\n0+0+0\\r\\n0+1+0\\r\\n0+2+0\\r\\n0+3+0\\r\\n1+0+0\\r\\n1+1+0\\r\\n'\n",
      "INFO #22:b'1+2+0\\r\\n1+3+0\\r\\n2+0+0\\r\\n2+1+0\\r\\n2+2+0\\r\\n2+3+0\\r\\n3+0+0\\r\\n3'\n",
      "INFO #23:b'+1+0\\r\\n3+2+0\\r\\n3+3+0\\r\\n0+0+0\\r\\n0+1+0\\r\\n0+2+0\\r\\n0+3+0\\r\\n1+'\n",
      "INFO #24:b'0+0\\r\\n1+1+0\\r\\n1+2+0\\r\\n1+3+0\\r\\n2+0+0\\r\\n2+1+0\\r\\n2+2+0\\r\\n2+3'\n",
      "INFO #25:b'+0\\r\\n3+0+0\\r\\n3+1+0\\r\\n3+2+0\\r\\n3+3+0\\r\\n0+0+0\\r\\n0+1+0\\r\\n0+2+'\n",
      "INFO #26:b'0\\r\\n0+3+0\\r\\n1+0+0\\r\\n1+1+0\\r\\n1+2+0\\r\\n1+3+0\\r\\n2+0+0\\r\\n2+1+0'\n",
      "INFO #27:b'\\r\\n2+2+0\\r\\n2+3+0\\r\\n3+0+0\\r\\n3+1+0\\r\\n3+2+0\\r\\n3+3+0\\r\\n0+0+0\\r'\n",
      "INFO #28:b'\\n0+1+0\\r\\n0+2+0\\r\\n0+3+0\\r\\n1+0+0\\r\\n1+1+0\\r\\n1+2+0\\r\\n1+3+0\\r\\n'\n",
      "INFO #29:b'2+0+0\\r\\n2+1+0\\r\\n2+2+0\\r\\n2+3+0\\r\\n3+0+0\\r\\n3+1+0\\r\\n3+2+0\\r\\n3'\n",
      "INFO #30:b'+3+0\\r\\n0+0+0\\r\\n0+1+0\\r\\n0+2+0\\r\\n0+3+0\\r\\n1+0+0\\r\\n1+1+0\\r\\n1+'\n",
      "INFO #31:b'2+0\\r\\n1+3+0\\r\\n2+0+0\\r\\n2+1+0\\r\\n2+2+0\\r\\n2+3+0\\r\\n3+0+0\\r\\n3+1'\n",
      "INFO #32:b'+0\\r\\n3+2+0\\r\\n3+3+0\\r\\n0+0+0\\r\\n0+1+0\\r\\n0+2+0\\r\\n0+3+0\\r\\n1+0+'\n",
      "INFO #33:b'0\\r\\n1+1+0\\r\\n1+2+0\\r\\n1+3+0\\r\\n2+0+0\\r\\n2+1+0\\r\\n2+2+0\\r\\n2+3+0'\n",
      "INFO #34:b'\\r\\n3+0+0\\r\\n3+1+0\\r\\n3+2+0\\r\\n3+3+0\\r\\n0+0+0\\r\\n0+1+0\\r\\n0+2+0\\r'\n",
      "INFO #35:b'\\n0+3+0\\r\\n1+0+0\\r\\n1+1+0\\r\\n1+2+0\\r\\n1+3+0\\r\\n2+0+0\\r\\n2+1+0\\r\\n'\n",
      "INFO #36:b'2+2+0\\r\\n2+3+0\\r\\n3+0+0\\r\\n3+1+0\\r\\n3+2+0\\r\\n3+3+0\\r\\n0+0+0\\r\\n0'\n",
      "INFO #37:b'+1+0\\r\\n0+2+0\\r\\n0+3+0\\r\\n1+0+0\\r\\n1+1+0\\r\\n1+2+0\\r\\n1+3+0\\r\\n2+'\n",
      "INFO #38:b'0+0\\r\\n2+1+0\\r\\n2+2+0\\r\\n2+3+0\\r\\n3+0+0\\r\\n3+1+0\\r\\n3+2+0\\r\\n3+3'\n",
      "INFO #39:b'+0\\r\\n0+0+0\\r\\n0+1+0\\r\\n0+2+0\\r\\n0+3+0\\r\\n1+0+0\\r\\n1+1+0\\r\\n1+2+'\n",
      "INFO #40:b'0\\r\\n1+3+0\\r\\n2+0+0\\r\\n2+1+0\\r\\n2+2+0\\r\\n2+3+0\\r\\n3+0+0\\r\\n3+1+0'\n",
      "INFO #41:b'\\r\\n3+2+0\\r\\n3+3+0\\r\\n0+0+0\\r\\n0+1+0\\r\\n0+2+0\\r\\n0+3+0\\r\\n1+0+0\\r'\n",
      "INFO #42:b'\\n1+1+0\\r\\n1+2+0\\r\\n1+3+0\\r\\n2+0+0\\r\\n2+1+0\\r\\n2+2+0\\r\\n2+3+0\\r\\n'\n",
      "INFO #43:b'3+0+0\\r\\n3+1+0\\r\\n3+2+0\\r\\n3+3+0\\r\\n0+0+0\\r\\n0+1+0\\r\\n0+2+0\\r\\n0'\n",
      "INFO #44:b'+3+0\\r\\n1+0+0\\r\\n1+1+0\\r\\n1+2+0\\r\\n1+3+0\\r\\n2+0+0\\r\\n2+1+0\\r\\n2+'\n",
      "INFO #45:b'2+0\\r\\n2+3+0\\r\\n3+0+0\\r\\n3+1+0\\r\\n3+2+0\\r\\n3+3+0\\r\\n0+0+0\\r\\n0+1'\n",
      "INFO #46:b'+0\\r\\n0+2+0\\r\\n0+3+0\\r\\n1+0+0\\r\\n1+1+0\\r\\n1+2+0\\r\\n1+3+0\\r\\n2+0+'\n",
      "INFO #47:b'0\\r\\n2+1+0\\r\\n2+2+0\\r\\n2+3+0\\r\\n3+0+0\\r\\n3+1+0\\r\\n3+2+0\\r\\n3+3+0'\n",
      "INFO #48:b'\\r\\n0+0+0\\r\\n0+1+0\\r\\n0+2+0\\r\\n0+3+0\\r\\n1+0+0\\r\\n1+1+0\\r\\n1+2+0\\r'\n",
      "INFO #49:b'\\n1+3+0\\r\\n2+0+0\\r\\n2+1+0\\r\\n2+2+0\\r\\n2+3+0\\r\\n3+0+0\\r\\n3+1+0\\r\\n'\n",
      "INFO #50:b'3+2+0\\r\\n3+3+0\\r\\n0+0+0\\r\\n0+1+0\\r\\n0+2+0\\r\\n0+3+0\\r\\n1+0+0\\r\\n1'\n",
      "INFO #51:b'+1+0\\r\\n1+2+0\\r\\n1+3+0\\r\\n2+0+0\\r\\n2+1+0\\r\\n2+2+0\\r\\n2+3+0\\r\\n3+'\n",
      "INFO #52:b'0+0\\r\\n3+1+0\\r\\n3+2+0\\r\\n3+3+0\\r\\n0+0+0\\r\\n0+1+0\\r\\n0+2+0\\r\\n0+3'\n",
      "INFO #53:b'+0\\r\\n1+0+0\\r\\n1+1+0\\r\\n1+2+0\\r\\n1+3+0\\r\\n2+0+0\\r\\n2+1+0\\r\\n2+2+'\n",
      "INFO #54:b'0\\r\\n2+3+0\\r\\n3+0+0\\r\\n3+1+0\\r\\n3+2+0\\r\\n3+3+0\\r\\n0+0+0\\r\\n0+1+0'\n",
      "INFO #55:b'\\r\\n0+2+0\\r\\n0+3+0\\r\\n1+0+0\\r\\n1+1+0\\r\\n1+2+0\\r\\n1+3+0\\r\\n2+0+0\\r'\n",
      "INFO #56:b'\\n2+1+0\\r\\n2+2+0\\r\\n2+3+0\\r\\n3+0+0\\r\\n3+1+0\\r\\n3+2+0\\r\\n3+3+0\\r\\n'\n",
      "INFO #57:b'0+0+0\\r\\n0+1+0\\r\\n0+2+0\\r\\n0+3+0\\r\\n1+0+0\\r\\n1+1+0\\r\\n1+2+0\\r\\n1'\n",
      "INFO #58:b'+3+0\\r\\n2+0+0\\r\\n2+1+0\\r\\n2+2+0\\r\\n2+3+0\\r\\n3+0+0\\r\\n3+1+0\\r\\n3+'\n",
      "INFO #59:b'2+0\\r\\n3+3+0\\r\\n0+0+0\\r\\n0+1+0\\r\\n0+2+0\\r\\n0+3+0\\r\\n1+0+0\\r\\n1+1'\n",
      "INFO #60:b'+0\\r\\n1+2+0\\r\\n1+3+0\\r\\n2+0+0\\r\\n2+1+0\\r\\n2+2+0\\r\\n2+3+0\\r\\n3+0+'\n",
      "INFO #61:b'0\\r\\n3+1+0\\r\\n3+2+0\\r\\n3+3+0\\r\\n0+0+0\\r\\n0+1+0\\r\\n0+2+0\\r\\n0+3+0'\n",
      "INFO #62:b'\\r\\n1+0+0\\r\\n1+1+0\\r\\n1+2+0\\r\\n1+3+0\\r\\n2+0+0\\r\\n2+1+0\\r\\n2+2+0\\r'\n",
      "INFO #63:b'\\n2+3+0\\r\\n3+0+0\\r\\n3+1+0\\r\\n3+2+0\\r\\n3+3+0\\r\\n0+0+0\\r\\n0+1+0\\r\\n'\n",
      "INFO #64:b'0+2+0\\r\\n0+3+0\\r\\n1+0+0\\r\\n1+1+0\\r\\n1+2+0\\r\\n1+3+0\\r\\n2+0+0\\r\\n2'\n",
      "INFO #65:b'+1+0\\r\\n2+2+0\\r\\n2+3+0\\r\\n3+0+0\\r\\n3+1+0\\r\\n3+2+0\\r\\n3+3+0\\r\\n0+'\n",
      "INFO #66:b'0+0\\r\\n0+1+0\\r\\n0+2+0\\r\\n0+3+0\\r\\n1+0+0\\r\\n1+1+0\\r\\n1+2+0\\r\\n1+3'\n",
      "INFO #67:b'+0\\r\\n2+0+0\\r\\n2+1+0\\r\\n2+2+0\\r\\n2+3+0\\r\\n3+0+0\\r\\n3+1+0\\r\\n3+2+'\n",
      "INFO #68:b'0\\r\\n3+3+0\\r\\n0+0+0\\r\\n0+1+0\\r\\n0+2+0\\r\\n0+3+0\\r\\n1+0+0\\r\\n1+1+0'\n",
      "INFO #69:b'\\r\\n1+2+0\\r\\n1+3+0\\r\\n2+0+0\\r\\n2+1+0\\r\\n2+2+0\\r\\n2+3+0\\r\\n3+0+0\\r'\n",
      "INFO #70:b'\\n3+1+0\\r\\n3+2+0\\r\\n3+3+0\\r\\n0+0+0\\r\\n0+1+0\\r\\n0+2+0\\r\\n0+3+0\\r\\n'\n",
      "INFO #71:b'1+0+0\\r\\n1+1+0\\r\\n1+2+0\\r\\n1+3+0\\r\\n2+0+0\\r\\n2+1+0\\r\\n2+2+0\\r\\n2'\n",
      "INFO #72:b'+3+0\\r\\n3+0+0\\r\\n3+1+0\\r\\n3+2+0\\r\\n3+3+0\\r\\n0+0+0\\r\\n0+1+0\\r\\n0+'\n",
      "INFO #73:b'2+0\\r\\n0+3+0\\r\\n1+0+0\\r\\n1+1+0\\r\\n1+2+0\\r\\n1+3+0\\r\\n2+0+0\\r\\n2+1'\n",
      "INFO #74:b'+0\\r\\n2+2+0\\r\\n2+3+0\\r\\n3+0+0\\r\\n3+1+0\\r\\n3+2+0\\r\\n3+3+0\\r\\n0+0+'\n",
      "INFO #75:b'0\\r\\n0+1+0\\r\\n0+2+0\\r\\n0+3+0\\r\\n1+0+0\\r\\n1+1+0\\r\\n1+2+0\\r\\n1+3+0'\n",
      "INFO #76:b'\\r\\n2+0+0\\r\\n2+1+0\\r\\n2+2+0\\r\\n2+3+0\\r\\n3+0+0\\r\\n3+1+0\\r\\n3+2+0\\r'\n",
      "INFO #77:b'\\n3+3+0\\r\\n0+0+0\\r\\n0+1+0\\r\\n0+2+0\\r\\n0+3+0\\r\\n1+0+0\\r\\n1+1+0\\r\\n'\n",
      "INFO #78:b'1+2+0\\r\\n1+3+0\\r\\n2+0+0\\r\\n2+1+0\\r\\n2+2+0\\r\\n2+3+0\\r\\n3+0+0\\r\\n3'\n",
      "INFO #79:b'+1+0\\r\\n3+2+0\\r\\n3+3+0\\r\\n0+0+0\\r\\n0+1+0\\r\\n0+2+0\\r\\n0+3+0\\r\\n1+'\n",
      "INFO #80:b'0+0\\r\\n1+1+0\\r\\n1+2+0\\r\\n1+3+0\\r\\n2+0+0\\r\\n2+1+0\\r\\n2+2+0\\r\\n2+3'\n",
      "INFO #81:b'+0\\r\\n3+0+0\\r\\n'\n",
      "INFO #82:b'3+1+0\\r\\n3+2+0\\r\\n3+3+0\\r\\n'\n",
      "INFO #83:b'0+0+0\\r\\n0+1+0\\r\\n0+2+0\\r\\n'\n",
      "INFO #84:b'0+3+0\\r\\n1+0+0\\r\\n'\n",
      "INFO #85:b'1+1+0\\r\\n1+2+0\\r\\n1+3+0\\r\\n'\n",
      "INFO #86:b'2+0+0\\r\\n2+1+0\\r\\n2+2+0\\r\\n'\n",
      "INFO #87:b'2+3+0\\r\\n3+0+0\\r\\n3+1+0\\r\\n'\n",
      "INFO #88:b'3+2+0\\r\\n3+3+0\\r\\n'\n",
      "INFO #89:b'0+0+0\\r\\n0+1+0\\r\\n0+2+0\\r\\n'\n",
      "INFO #90:b'0+3+0\\r\\n1+0+0\\r\\n1+1+0\\r\\n'\n",
      "INFO #91:b'1+2+0\\r\\n1+3+0\\r\\n2+0+0\\r\\n'\n",
      "INFO #92:b'2+1+0\\r\\n2+2+0\\r\\n2+3+0\\r\\n'\n",
      "INFO #93:b'3+0+0\\r\\n3+1+0\\r\\n3+2+0\\r\\n'\n",
      "INFO #94:b'3+3+0\\r\\n0+0+0\\r\\n'\n",
      "INFO #95:b'0+1+0\\r\\n0+2+0\\r\\n0+3+0\\r\\n'\n",
      "INFO #96:b'1+0+0\\r\\n1+1+0\\r\\n1+2+0\\r\\n1+3+0\\r\\n'\n",
      "INFO #97:b'2+0+0\\r\\n2+1+0\\r\\n2+2+0\\r\\n'\n",
      "INFO #98:b'2+3+0\\r\\n3+0+0\\r\\n3+1+0\\r\\n'\n",
      "INFO #99:b'3+2+0\\r\\n3+3+0\\r\\n'\n",
      "INFO #100:b'0+0+0\\r\\n0+1+0\\r\\n0+2+0\\r\\n'\n",
      "INFO #101:b'0+3+0\\r\\n1+0+0\\r\\n1+1+0\\r\\n'\n",
      "INFO #102:b'1+2+0\\r\\n1+3+0\\r\\n2+0+0\\r\\n'\n",
      "INFO #103:b'2+1+0\\r\\n2+2+0\\r\\n'\n",
      "INFO #104:b'2+3+0\\r\\n3+0+0\\r\\n3+1+0\\r\\n'\n",
      "INFO #105:b'3+2+0\\r\\n3+3+0\\r\\n0+0+0\\r\\n0+1+0\\r\\n'\n",
      "INFO #106:b'0+2+0\\r\\n0+3+0\\r\\n1+0+0\\r\\n'\n",
      "INFO #107:b'1+1+0\\r\\n1+2+0\\r\\n1+3+0\\r\\n2+0+0\\r\\n'\n",
      "INFO #108:b'2+1+0\\r\\n2+2+0\\r\\n2+3+0\\r\\n'\n",
      "INFO #109:b'3+0+0\\r\\n3+1+0\\r\\n3+2+0\\r\\n'\n",
      "INFO #110:b'3+3+0\\r\\n0+0+0\\r\\n0+1+0\\r\\n'\n",
      "INFO #111:b'0+2+0\\r\\n0+3+0\\r\\n1+0+0\\r\\n'\n",
      "INFO #112:b'1+1+0\\r\\n1+2+0\\r\\n1+3+0\\r\\n'\n",
      "INFO #113:b'2+0+0\\r\\n2+1+0\\r\\n2+2+0\\r\\n'\n",
      "INFO #114:b'2+3+0\\r\\n3+0+0\\r\\n3+1+0\\r\\n'\n",
      "INFO #115:b'3+2+0\\r\\n3+3+0\\r\\n0+0+0\\r\\n'\n",
      "INFO #116:b'0+1+0\\r\\n0+2+0\\r\\n'\n",
      "INFO #117:b'0+3+0\\r\\n1+0+0\\r\\n1+1+0\\r\\n'\n",
      "INFO #118:b'1+2+0\\r\\n1+3+0\\r\\n2+0+0\\r\\n2+1+0\\r\\n'\n",
      "INFO #119:b'2+2+0\\r\\n2+3+0\\r\\n3+0+0\\r\\n'\n",
      "INFO #120:b'3+1+0\\r\\n3+2+0\\r\\n'\n",
      "INFO #121:b'3+3+0\\r\\n0+0+0\\r\\n0+1+0\\r\\n'\n",
      "INFO #122:b'0+2+0\\r\\n0+3+0\\r\\n1+0+0\\r\\n'\n",
      "INFO #123:b'1+1+0\\r\\n1+2+0\\r\\n1+3+0\\r\\n'\n",
      "INFO #124:b'2+0+0\\r\\n2+1+0\\r\\n2+2+0\\r\\n2+3+0\\r\\n'\n",
      "INFO #125:b'3+0+0\\r\\n3+1+0\\r\\n3+2+0\\r\\n'\n",
      "INFO #126:b'3+3+0\\r\\n0+0+0\\r\\n'\n",
      "INFO #127:b'0+1+0\\r\\n0+2+0\\r\\n0+3+0\\r\\n'\n",
      "INFO #128:b'1+0+0\\r\\n1+1+0\\r\\n1+2+0\\r\\n'\n",
      "INFO #129:b'1+3+0\\r\\n2+0+0\\r\\n2+1+0\\r\\n'\n",
      "INFO #130:b'2+2+0\\r\\n2+3+0\\r\\n'\n",
      "INFO #131:b'3+0+0\\r\\n3+1+0\\r\\n3+2+0\\r\\n'\n",
      "INFO #132:b'3+3+0\\r\\n0+0+0\\r\\n'\n",
      "INFO #133:b'0+1+0\\r\\n0+2+0\\r\\n0+3+0\\r\\n'\n"
     ]
    },
    {
     "name": "stdout",
     "output_type": "stream",
     "text": [
      "INFO #134:b'1+0+0\\r\\n1+1+0\\r\\n1+2+0\\r\\n'\n",
      "INFO #135:b'1+3+0\\r\\n2+0+0\\r\\n2+1+0\\r\\n'\n",
      "INFO #136:b'2+2+0\\r\\n2+3+0\\r\\n'\n",
      "INFO #137:b'3+0+0\\r\\n3+1+0\\r\\n3+2+0\\r\\n'\n",
      "INFO #138:b'3+3+0\\r\\n0+0+0\\r\\n'\n",
      "INFO #139:b'0+1+0\\r\\n0+2+0\\r\\n0+3+0\\r\\n'\n",
      "INFO #140:b'1+0+0\\r\\n1+1+0\\r\\n1+2+0\\r\\n'\n",
      "INFO #141:b'1+3+0\\r\\n2+0+0\\r\\n2+1+0\\r\\n2+2+0\\r\\n'\n",
      "INFO #142:b'2+3+0\\r\\n3+0+0\\r\\n3+1+0\\r\\n'\n",
      "INFO #143:b'3+2+0\\r\\n3+3+0\\r\\n0+0+0\\r\\n'\n",
      "INFO #144:b'0+1+0\\r\\n0+2+0\\r\\n'\n",
      "INFO #145:b'0+3+0\\r\\n1+0+0\\r\\n1+1+0\\r\\n'\n",
      "INFO #146:b'1+2+0\\r\\n1+3+0\\r\\n2+0+0\\r\\n'\n",
      "INFO #147:b'2+1+0\\r\\n2+2+0\\r\\n2+3+0\\r\\n'\n",
      "INFO #148:b'3+0+0\\r\\n3+1+0\\r\\n3+2+0\\r\\n'\n",
      "INFO #149:b'3+3+0\\r\\n0+0+0\\r\\n0+1+0\\r\\n'\n",
      "INFO #150:b'0+2+0\\r\\n0+3+0\\r\\n1+0+0\\r\\n'\n",
      "INFO #151:b'1+1+0\\r\\n1+2+0\\r\\n'\n",
      "INFO #152:b'1+3+0\\r\\n2+0+0\\r\\n2+1+0\\r\\n'\n",
      "INFO #153:b'2+2+0\\r\\n2+3+0\\r\\n3+0+0\\r\\n'\n",
      "INFO #154:b'3+1+0\\r\\n3+2+0\\r\\n3+3+0\\r\\n'\n",
      "INFO #155:b'0+0+0\\r\\n0+1+0\\r\\n0+2+0\\r\\n'\n",
      "INFO #156:b'0+3+0\\r\\n1+0+0\\r\\n1+1+0\\r\\n'\n",
      "INFO #157:b'1+2+0\\r\\n1+3+0\\r\\n'\n",
      "INFO #158:b'2+0+0\\r\\n2+1+0\\r\\n2+2+0\\r\\n'\n",
      "INFO #159:b'2+3+0\\r\\n3+0+0\\r\\n3+1+0\\r\\n'\n",
      "INFO #160:b'3+2+0\\r\\n3+3+0\\r\\n0+0+0\\r\\n0+1+0\\r\\n'\n",
      "INFO #161:b'0+2+0\\r\\n0+3+0\\r\\n1+0+0\\r\\n'\n",
      "INFO #162:b'1+1+0\\r\\n1+2+0\\r\\n1+3+0\\r\\n'\n",
      "INFO #163:b'2+0+0\\r\\n2+1+0\\r\\n2+2+0\\r\\n'\n",
      "INFO #164:b'2+3+0\\r\\n3+0+0\\r\\n3+1+0\\r\\n'\n",
      "INFO #165:b'3+2+0\\r\\n3+3+0\\r\\n0+0+0\\r\\n'\n",
      "INFO #166:b'0+1+0\\r\\n0+2+0\\r\\n0+3+0\\r\\n'\n",
      "INFO #167:b'1+0+0\\r\\n1+1+0\\r\\n1+2+0\\r\\n'\n",
      "INFO #168:b'1+3+0\\r\\n2+0+0\\r\\n2+1+0\\r\\n2+2+0\\r\\n'\n",
      "INFO #169:b'2+3+0\\r\\n3+0+0\\r\\n'\n",
      "INFO #170:b'3+1+0\\r\\n3+2+0\\r\\n3+3+0\\r\\n'\n",
      "INFO #171:b'0+0+0\\r\\n0+1+0\\r\\n0+2+0\\r\\n'\n",
      "INFO #172:b'0+3+0\\r\\n1+0+0\\r\\n'\n",
      "INFO #173:b'1+1+0\\r\\n1+2+0\\r\\n1+3+0\\r\\n'\n",
      "INFO #174:b'2+0+0\\r\\n2+1+0\\r\\n2+2+0\\r\\n'\n",
      "INFO #175:b'2+3+0\\r\\n3+0+0\\r\\n'\n",
      "INFO #176:b'3+1+0\\r\\n3+2+0\\r\\n3+3+0\\r\\n'\n",
      "INFO #177:b'0+0+0\\r\\n0+1+0\\r\\n'\n",
      "INFO #178:b'0+2+0\\r\\n0+3+0\\r\\n1+0+0\\r\\n'\n",
      "INFO #179:b'1+1+0\\r\\n1+2+0\\r\\n1+3+0\\r\\n2+0+0\\r\\n'\n",
      "INFO #180:b'2+1+0\\r\\n2+2+0\\r\\n'\n",
      "INFO #181:b'2+3+0\\r\\n3+0+0\\r\\n3+1+0\\r\\n'\n",
      "INFO #182:b'3+2+0\\r\\n3+3+0\\r\\n'\n",
      "INFO #183:b'0+0+0\\r\\n0+1+0\\r\\n0+2+0\\r\\n'\n",
      "INFO #184:b'0+3+0\\r\\n1+0+0\\r\\n1+1+0\\r\\n'\n",
      "INFO #185:b'1+2+0\\r\\n1+3+0\\r\\n'\n",
      "INFO #186:b'2+0+0\\r\\n2+1+0\\r\\n2+2+0\\r\\n'\n",
      "INFO #187:b'2+3+0\\r\\n3+0+0\\r\\n3+1+0\\r\\n'\n",
      "INFO #188:b'3+2+0\\r\\n3+3+0\\r\\n0+0+0\\r\\n'\n",
      "INFO #189:b'0+1+0\\r\\n0+2+0\\r\\n0+3+0\\r\\n'\n",
      "INFO #190:b'1+0+0\\r\\n1+1+0\\r\\n1+2+0\\r\\n'\n",
      "INFO #191:b'1+3+0\\r\\n2+0+0\\r\\n'\n",
      "INFO #192:b'2+1+0\\r\\n2+2+0\\r\\n2+3+0\\r\\n'\n",
      "INFO #193:b'3+0+0\\r\\n3+1+0\\r\\n3+2+0\\r\\n'\n",
      "INFO #194:b'3+3+0\\r\\n0+0+0\\r\\n'\n",
      "INFO #195:b'0+1+0\\r\\n0+2+0\\r\\n0+3+0\\r\\n'\n",
      "INFO #196:b'1+0+0\\r\\n1+1+0\\r\\n1+2+0\\r\\n'\n",
      "INFO #197:b'1+3+0\\r\\n2+0+0\\r\\n2+1+0\\r\\n'\n",
      "INFO #198:b'2+2+0\\r\\n2+3+0\\r\\n'\n",
      "INFO #199:b'3+0+0\\r\\n3+1+0\\r\\n3+2+0\\r\\n'\n",
      "INFO #200:b'3+3+0\\r\\n0+0+0\\r\\n0+1+0\\r\\n'\n",
      "INFO #201:b'0+2+0\\r\\n0+3+0\\r\\n1+0+0\\r\\n'\n",
      "INFO #202:b'1+1+0\\r\\n1+2+0\\r\\n1+3+0\\r\\n'\n",
      "INFO #203:b'2+0+0\\r\\n2+1+0\\r\\n2+2+0\\r\\n'\n",
      "INFO #204:b'2+3+0\\r\\n3+0+0\\r\\n3+1+0\\r\\n'\n",
      "INFO #205:b'3+2+0\\r\\n3+3+0\\r\\n0+0+0\\r\\n'\n",
      "INFO #206:b'0+1+0\\r\\n0+2+0\\r\\n'\n",
      "INFO #207:b'0+3+0\\r\\n1+0+0\\r\\n1+1+0\\r\\n'\n",
      "INFO #208:b'1+2+0\\r\\n1+3+0\\r\\n2+0+0\\r\\n'\n",
      "INFO #209:b'2+1+0\\r\\n2+2+0\\r\\n2+3+0\\r\\n3+0+0\\r\\n'\n",
      "INFO #210:b'3+1+0\\r\\n3+2+0\\r\\n3+3+0\\r\\n'\n",
      "INFO #211:b'0+0+0\\r\\n0+1+0\\r\\n0+2+0\\r\\n0+3+0\\r\\n'\n",
      "INFO #212:b'1+0+0\\r\\n1+1+0\\r\\n'\n",
      "INFO #213:b'1+2+0\\r\\n1+3+0\\r\\n2+0+0\\r\\n'\n",
      "INFO #214:b'2+1+0\\r\\n2+2+0\\r\\n2+3+0\\r\\n'\n",
      "INFO #215:b'3+0+0\\r\\n3+1+0\\r\\n'\n",
      "INFO #216:b'3+2+0\\r\\n3+3+0\\r\\n0+0+0\\r\\n'\n",
      "INFO #217:b'0+1+0\\r\\n0+2+0\\r\\n0+3+0\\r\\n'\n",
      "INFO #218:b'1+0+0\\r\\n1+1+0\\r\\n1+2+0\\r\\n'\n",
      "INFO #219:b'1+3+0\\r\\n2+0+0\\r\\n2+1+0\\r\\n'\n",
      "INFO #220:b'2+2+0\\r\\n2+3+0\\r\\n3+0+0\\r\\n'\n",
      "INFO #221:b'3+1+0\\r\\n3+2+0\\r\\n'\n",
      "INFO #222:b'3+3+0\\r\\n0+0+0\\r\\n0+1+0\\r\\n'\n",
      "INFO #223:b'0+2+0\\r\\n0+3+0\\r\\n'\n",
      "INFO #224:b'1+0+0\\r\\n1+1+0\\r\\n1+2+0\\r\\n'\n",
      "INFO #225:b'1+3+0\\r\\n2+0+0\\r\\n2+1+0\\r\\n'\n",
      "INFO #226:b'2+2+0\\r\\n2+3+0\\r\\n3+0+0\\r\\n'\n",
      "INFO #227:b'3+1+0\\r\\n3+2+0\\r\\n'\n",
      "INFO #228:b'3+3+0\\r\\n0+0+0\\r\\n0+1+0\\r\\n'\n",
      "INFO #229:b'0+2+0\\r\\n0+3+0\\r\\n'\n",
      "INFO #230:b'1+0+0\\r\\n1+1+0\\r\\n1+2+0\\r\\n'\n",
      "INFO #231:b'1+3+0\\r\\n2+0+0\\r\\n2+1+0\\r\\n'\n",
      "INFO #232:b'2+2+0\\r\\n2+3+0\\r\\n'\n",
      "INFO #233:b'3+0+0\\r\\n3+1+0\\r\\n3+2+0\\r\\n'\n",
      "INFO #234:b'3+3+0\\r\\n0+0+0\\r\\n0+1+0\\r\\n'\n",
      "INFO #235:b'0+2+0\\r\\n0+3+0\\r\\n'\n",
      "INFO #236:b'1+0+0\\r\\n1+1+0\\r\\n1+2+0\\r\\n'\n",
      "INFO #237:b'1+3+0\\r\\n2+0+0\\r\\n2+1+0\\r\\n2+2+0\\r\\n'\n",
      "INFO #238:b'2+3+0\\r\\n3+0+0\\r\\n'\n",
      "INFO #239:b'3+1+0\\r\\n3+2+0\\r\\n3+3+0\\r\\n'\n",
      "INFO #240:b'0+0+0\\r\\n0+1+0\\r\\n'\n",
      "INFO #241:b'0+2+0\\r\\n0+3+0\\r\\n1+0+0\\r\\n'\n",
      "INFO #242:b'1+1+0\\r\\n1+2+0\\r\\n1+3+0\\r\\n'\n",
      "INFO #243:b'2+0+0\\r\\n2+1+0\\r\\n'\n",
      "INFO #244:b'2+2+0\\r\\n2+3+0\\r\\n3+0+0\\r\\n'\n",
      "INFO #245:b'3+1+0\\r\\n3+2+0\\r\\n3+3+0\\r\\n'\n",
      "INFO #246:b'0+0+0\\r\\n0+1+0\\r\\n'\n",
      "INFO #247:b'0+2+0\\r\\n0+3+0\\r\\n1+0+0\\r\\n'\n",
      "INFO #248:b'1+1+0\\r\\n1+2+0\\r\\n1+3+0\\r\\n'\n",
      "INFO #249:b'2+0+0\\r\\n2+1+0\\r\\n'\n",
      "INFO #250:b'2+2+0\\r\\n2+3+0\\r\\n3+0+0\\r\\n'\n",
      "INFO #251:b'3+1+0\\r\\n3+2+0\\r\\n3+3+0\\r\\n'\n",
      "INFO #252:b'0+0+0\\r\\n0+1+0\\r\\n'\n",
      "INFO #253:b'0+2+0\\r\\n0+3+0\\r\\n1+0+0\\r\\n1+1+0\\r\\n'\n",
      "INFO #254:b'1+2+0\\r\\n1+3+0\\r\\n2+0+0\\r\\n'\n",
      "INFO #255:b'2+1+0\\r\\n2+2+0\\r\\n2+3+0\\r\\n'\n",
      "INFO #256:b'3+0+0\\r\\n3+1+0\\r\\n3+2+0\\r\\n'\n",
      "INFO #257:b'3+3+0\\r\\n0+0+0\\r\\n'\n",
      "INFO #258:b'0+1+0\\r\\n0+2+0\\r\\n0+3+0\\r\\n'\n",
      "INFO #259:b'1+0+0\\r\\n1+1+0\\r\\n1+2+0\\r\\n'\n",
      "INFO #260:b'1+3+0\\r\\n2+0+0\\r\\n2+1+0\\r\\n'\n",
      "INFO #261:b'2+2+0\\r\\n2+3+0\\r\\n3+0+0\\r\\n'\n",
      "INFO #262:b'3+1+0\\r\\n3+2+0\\r\\n3+3+0\\r\\n'\n",
      "INFO #263:b'0+0+0\\r\\n0+1+0\\r\\n0+2+0\\r\\n'\n",
      "INFO #264:b'0+3+0\\r\\n1+0+0\\r\\n1+1+0\\r\\n'\n",
      "INFO #265:b'1+2+0\\r\\n1+3+0\\r\\n2+0+0\\r\\n'\n",
      "INFO #266:b'2+1+0\\r\\n2+2+0\\r\\n2+3+0\\r\\n'\n",
      "INFO #267:b'3+0+0\\r\\n3+1+0\\r\\n3+2+0\\r\\n'\n",
      "INFO #268:b'3+3+0\\r\\n0+0+0\\r\\n'\n",
      "INFO #269:b'0+1+0\\r\\n0+2+0\\r\\n0+3+0\\r\\n'\n",
      "INFO #270:b'1+0+0\\r\\n1+1+0\\r\\n1+2+0\\r\\n'\n",
      "INFO #271:b'1+3+0\\r\\n2+0+0\\r\\n'\n",
      "INFO #272:b'2+1+0\\r\\n2+2+0\\r\\n2+3+0\\r\\n'\n",
      "INFO #273:b'3+0+0\\r\\n3+1+0\\r\\n3+2+0\\r\\n'\n",
      "INFO #274:b'3+3+0\\r\\n0+0+0\\r\\n'\n",
      "INFO #275:b'0+1+0\\r\\n0+2+0\\r\\n0+3+0\\r\\n'\n",
      "INFO #276:b'1+0+0\\r\\n1+1+0\\r\\n1+2+0\\r\\n'\n",
      "INFO #277:b'1+3+0\\r\\n2+0+0\\r\\n'\n",
      "INFO #278:b'2+1+0\\r\\n2+2+0\\r\\n2+3+0\\r\\n'\n",
      "INFO #279:b'3+0+0\\r\\n3+1+0\\r\\n3+2+0\\r\\n'\n",
      "INFO #280:b'3+3+0\\r\\n0+0+0\\r\\n'\n",
      "INFO #281:b'0+1+0\\r\\n0+2+0\\r\\n0+3+0\\r\\n'\n",
      "INFO #282:b'1+0+0\\r\\n1+1+0\\r\\n1+2+0\\r\\n'\n",
      "INFO #283:b'1+3+0\\r\\n2+0+0\\r\\n2+1+0\\r\\n'\n",
      "INFO #284:b'2+2+0\\r\\n2+3+0\\r\\n3+0+0\\r\\n'\n",
      "INFO #285:b'3+1+0\\r\\n3+2+0\\r\\n3+3+0\\r\\n'\n",
      "INFO #286:b'0+0+0\\r\\n0+1+0\\r\\n'\n",
      "INFO #287:b'0+2+0\\r\\n0+3+0\\r\\n1+0+0\\r\\n'\n",
      "INFO #288:b'1+1+0\\r\\n1+2+0\\r\\n1+3+0\\r\\n'\n",
      "INFO #289:b'2+0+0\\r\\n2+1+0\\r\\n2+2+0\\r\\n2+3+0\\r\\n'\n",
      "INFO #290:b'3+0+0\\r\\n3+1+0\\r\\n'\n",
      "INFO #291:b'3+2+0\\r\\n3+3+0\\r\\n0+0+0\\r\\n'\n",
      "INFO #292:b'0+1+0\\r\\n0+2+0\\r\\n0+3+0\\r\\n'\n",
      "INFO #293:b'1+0+0\\r\\n1+1+0\\r\\n'\n",
      "INFO #294:b'1+2+0\\r\\n1+3+0\\r\\n2+0+0\\r\\n'\n",
      "INFO #295:b'2+1+0\\r\\n2+2+0\\r\\n2+3+0\\r\\n3+0+0\\r\\n3+1+0\\r\\n'\n",
      "INFO #296:b'3+2+0\\r\\n3+3+0\\r\\n0+0+0\\r\\n0+1+0\\r\\n'\n",
      "INFO #297:b'0+2+0\\r\\n0+3+0\\r\\n1+0+0\\r\\n1+1+0\\r\\n1+2+0\\r\\n1+3+0\\r\\n'\n",
      "INFO #298:b'2+0+0\\r\\n2+1+0\\r\\n2+2+0\\r\\n'\n",
      "INFO #299:b'2+3+0\\r\\n3+0+0\\r\\n3+1+0\\r\\n3+2+0\\r\\n'\n",
      "INFO #300:b'3+3+0\\r\\n'\n"
     ]
    },
    {
     "ename": "KeyboardInterrupt",
     "evalue": "",
     "output_type": "error",
     "traceback": [
      "\u001b[1;31m---------------------------------------------------------------------------\u001b[0m",
      "\u001b[1;31mConnectionResetError\u001b[0m                      Traceback (most recent call last)",
      "    \u001b[1;31m[... skipping hidden 1 frame]\u001b[0m\n",
      "Cell \u001b[1;32mIn [8], line 4\u001b[0m\n\u001b[0;32m      3\u001b[0m \u001b[38;5;28;01mwhile\u001b[39;00m \u001b[38;5;28;01mTrue\u001b[39;00m:\n\u001b[1;32m----> 4\u001b[0m     \u001b[38;5;28mprint\u001b[39m(\u001b[38;5;124m\"\u001b[39m\u001b[38;5;124mINFO #\u001b[39m\u001b[38;5;132;01m{}\u001b[39;00m\u001b[38;5;124m:\u001b[39m\u001b[38;5;132;01m{}\u001b[39;00m\u001b[38;5;124m\"\u001b[39m\u001b[38;5;241m.\u001b[39mformat(RECV_INDEX, \u001b[43map_client\u001b[49m\u001b[38;5;241;43m.\u001b[39;49m\u001b[43mrecv\u001b[49m\u001b[43m(\u001b[49m\u001b[38;5;241;43m50\u001b[39;49m\u001b[43m)\u001b[49m))\n\u001b[0;32m      5\u001b[0m     RECV_INDEX \u001b[38;5;241m+\u001b[39m\u001b[38;5;241m=\u001b[39m \u001b[38;5;241m1\u001b[39m\n",
      "\u001b[1;31mConnectionResetError\u001b[0m: [WinError 10054] 远程主机强迫关闭了一个现有的连接。",
      "\nDuring handling of the above exception, another exception occurred:\n",
      "\u001b[1;31mKeyboardInterrupt\u001b[0m                         Traceback (most recent call last)",
      "\u001b[1;31mKeyboardInterrupt\u001b[0m: "
     ]
    }
   ],
   "source": [
    "import time\n",
    "RECV_INDEX = 1\n",
    "while True:\n",
    "    print(\"INFO #{}:{}\".format(RECV_INDEX, ap_client.recv(50)))\n",
    "    RECV_INDEX += 1"
   ]
  },
  {
   "cell_type": "code",
   "execution_count": null,
   "id": "d80613f9",
   "metadata": {},
   "outputs": [],
   "source": [
    "ap_client.close()"
   ]
  },
  {
   "cell_type": "code",
   "execution_count": null,
   "id": "88c47802",
   "metadata": {},
   "outputs": [],
   "source": []
  },
  {
   "cell_type": "code",
   "execution_count": null,
   "id": "2f19b359",
   "metadata": {},
   "outputs": [],
   "source": []
  }
 ],
 "metadata": {
  "kernelspec": {
   "display_name": "Python 3 (ipykernel)",
   "language": "python",
   "name": "python3"
  },
  "language_info": {
   "codemirror_mode": {
    "name": "ipython",
    "version": 3
   },
   "file_extension": ".py",
   "mimetype": "text/x-python",
   "name": "python",
   "nbconvert_exporter": "python",
   "pygments_lexer": "ipython3",
   "version": "3.9.13"
  }
 },
 "nbformat": 4,
 "nbformat_minor": 5
}
