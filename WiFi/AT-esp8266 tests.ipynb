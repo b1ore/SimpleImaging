{
 "cells": [
  {
   "cell_type": "code",
   "execution_count": 1,
   "id": "b8bf658f",
   "metadata": {},
   "outputs": [],
   "source": [
    "import serial\n",
    "import serial.tools.list_ports as list_ports\n",
    "import time"
   ]
  },
  {
   "cell_type": "code",
   "execution_count": 4,
   "id": "7c9b779a",
   "metadata": {},
   "outputs": [
    {
     "name": "stdout",
     "output_type": "stream",
     "text": [
      "[<serial.tools.list_ports_common.ListPortInfo object at 0x000001FB77672400>]\n",
      "COM3 - USB-SERIAL CH340 (COM3)\n"
     ]
    }
   ],
   "source": [
    "port_list = list(list_ports.comports())\n",
    "print(port_list)\n",
    "if len(port_list) == 0:\n",
    "    print(\"无可用串口\")\n",
    "else:\n",
    "    for i in range(len(port_list)):\n",
    "        print(port_list[i])"
   ]
  },
  {
   "cell_type": "code",
   "execution_count": 2,
   "id": "38df80a1",
   "metadata": {},
   "outputs": [],
   "source": [
    "#端口\n",
    "portx = \"COM3\"\n",
    "#波特率，标准值之一：50,75,110,134,150,200,300,600,1200,\n",
    "#1800,2400,4800,9600,19200,38400,57600,115200\n",
    "bps = 115200\n",
    "#超时设置,None：永远等待操作，0为立即返回请求结果，其他值为等待超时时间(单位为秒）\n",
    "timex = 5\n",
    "#bytesize,一字节长度\n",
    "bs = serial.EIGHTBITS\n",
    "#stopbits\n",
    "sb = serial.STOPBITS_ONE\n",
    "#parity\n",
    "pty = serial.PARITY_NONE\n",
    "\n",
    "#RTS/CTS\n",
    "rtscts = False"
   ]
  },
  {
   "cell_type": "code",
   "execution_count": 3,
   "id": "b5f9c957",
   "metadata": {},
   "outputs": [],
   "source": [
    "ser = serial.Serial(portx, bps, timeout=5, parity=pty, bytesize=bs, stopbits=sb, rtscts=rtscts)"
   ]
  },
  {
   "cell_type": "code",
   "execution_count": 7,
   "id": "781d5908",
   "metadata": {},
   "outputs": [],
   "source": [
    "def send_cmd_esp(ser, cmd):\n",
    "    \"\"\"\n",
    "    data: string to be sended\n",
    "    ser:  available port\n",
    "    \"\"\"\n",
    "    ser.reset_output_buffer()\n",
    "    ser.reset_input_buffer()\n",
    "    if ser.writable():\n",
    "        ser.write((cmd+\"\\r\\n\").encode(\"utf-8\"))\n",
    "        return True\n",
    "    else:\n",
    "        print(ser.port, \" is not writable\")\n",
    "        return False\n",
    "    \n",
    "def recv_esp(ser):\n",
    "    reply = ser.read_all()\n",
    "    print(reply) #不解码打印，方便看每个字符\n",
    "    return reply.decode(\"utf-8\")"
   ]
  },
  {
   "cell_type": "markdown",
   "id": "0a44efcf",
   "metadata": {},
   "source": [
    "### TCP AP模式 client"
   ]
  },
  {
   "cell_type": "code",
   "execution_count": 76,
   "id": "31d97fcc",
   "metadata": {},
   "outputs": [
    {
     "name": "stdout",
     "output_type": "stream",
     "text": [
      "b'AT+CWMODE=2\\r\\n\\r\\nOK\\r\\n'\n"
     ]
    },
    {
     "data": {
      "text/plain": [
       "'AT+CWMODE=2\\r\\n\\r\\nOK\\r\\n'"
      ]
     },
     "execution_count": 76,
     "metadata": {},
     "output_type": "execute_result"
    }
   ],
   "source": [
    "send_cmd_esp(ser, \"AT+CWMODE=2\")\n",
    "time.sleep(0.1)\n",
    "recv_esp(ser)"
   ]
  },
  {
   "cell_type": "code",
   "execution_count": 51,
   "id": "54e61c4e",
   "metadata": {},
   "outputs": [
    {
     "name": "stdout",
     "output_type": "stream",
     "text": [
      "b'AT+RST\\r\\n\\r\\nOK\\r\\n'\n"
     ]
    },
    {
     "data": {
      "text/plain": [
       "'AT+RST\\r\\n\\r\\nOK\\r\\n'"
      ]
     },
     "execution_count": 51,
     "metadata": {},
     "output_type": "execute_result"
    }
   ],
   "source": [
    "send_cmd_esp(ser, \"AT+RST\")\n",
    "time.sleep(0.1)\n",
    "recv_esp(ser)"
   ]
  },
  {
   "cell_type": "code",
   "execution_count": 52,
   "id": "03325626",
   "metadata": {},
   "outputs": [
    {
     "name": "stdout",
     "output_type": "stream",
     "text": [
      "b'AT+CWSAP=\"8266\",\"12345678\",1,4\\r\\n\\r\\nOK\\r\\n'\n"
     ]
    },
    {
     "data": {
      "text/plain": [
       "'AT+CWSAP=\"8266\",\"12345678\",1,4\\r\\n\\r\\nOK\\r\\n'"
      ]
     },
     "execution_count": 52,
     "metadata": {},
     "output_type": "execute_result"
    }
   ],
   "source": [
    "send_cmd_esp(ser, \"AT+CWSAP=\\\"8266\\\",\\\"12345678\\\",1,4\")\n",
    "time.sleep(0.1)\n",
    "recv_esp(ser)"
   ]
  },
  {
   "cell_type": "code",
   "execution_count": 53,
   "id": "2f9b7379",
   "metadata": {},
   "outputs": [
    {
     "name": "stdout",
     "output_type": "stream",
     "text": [
      "b'AT+CIPMUX=0\\r\\n\\r\\nOK\\r\\n'\n"
     ]
    },
    {
     "data": {
      "text/plain": [
       "'AT+CIPMUX=0\\r\\n\\r\\nOK\\r\\n'"
      ]
     },
     "execution_count": 53,
     "metadata": {},
     "output_type": "execute_result"
    }
   ],
   "source": [
    "send_cmd_esp(ser, \"AT+CIPMUX=0\")\n",
    "time.sleep(0.1)\n",
    "recv_esp(ser)"
   ]
  },
  {
   "cell_type": "code",
   "execution_count": 54,
   "id": "7e603466",
   "metadata": {},
   "outputs": [
    {
     "name": "stdout",
     "output_type": "stream",
     "text": [
      "b'AT+CIPSTART=\"TCP\",\"192.168.4.2\",12000\\r\\nCONNECT\\r\\n\\r\\nOK\\r\\n'\n"
     ]
    },
    {
     "data": {
      "text/plain": [
       "'AT+CIPSTART=\"TCP\",\"192.168.4.2\",12000\\r\\nCONNECT\\r\\n\\r\\nOK\\r\\n'"
      ]
     },
     "execution_count": 54,
     "metadata": {},
     "output_type": "execute_result"
    }
   ],
   "source": [
    "send_cmd_esp(ser, \"AT+CIPSTART=\\\"TCP\\\",\\\"192.168.4.2\\\",12000\")\n",
    "time.sleep(0.1)\n",
    "recv_esp(ser)"
   ]
  },
  {
   "cell_type": "code",
   "execution_count": 55,
   "id": "026e09ca",
   "metadata": {},
   "outputs": [
    {
     "name": "stdout",
     "output_type": "stream",
     "text": [
      "b'AT+CIPMODE=1\\r\\n\\r\\nOK\\r\\n'\n"
     ]
    },
    {
     "data": {
      "text/plain": [
       "'AT+CIPMODE=1\\r\\n\\r\\nOK\\r\\n'"
      ]
     },
     "execution_count": 55,
     "metadata": {},
     "output_type": "execute_result"
    }
   ],
   "source": [
    "send_cmd_esp(ser, \"AT+CIPMODE=1\")\n",
    "time.sleep(0.1)\n",
    "recv_esp(ser)"
   ]
  },
  {
   "cell_type": "code",
   "execution_count": 56,
   "id": "e4e093df",
   "metadata": {},
   "outputs": [
    {
     "name": "stdout",
     "output_type": "stream",
     "text": [
      "b'AT+CIPSEND\\r\\n\\r\\nOK\\r\\n\\r\\n>'\n"
     ]
    },
    {
     "data": {
      "text/plain": [
       "'AT+CIPSEND\\r\\n\\r\\nOK\\r\\n\\r\\n>'"
      ]
     },
     "execution_count": 56,
     "metadata": {},
     "output_type": "execute_result"
    }
   ],
   "source": [
    "send_cmd_esp(ser, \"AT+CIPSEND\")\n",
    "time.sleep(0.1)\n",
    "recv_esp(ser)"
   ]
  },
  {
   "cell_type": "code",
   "execution_count": 74,
   "id": "c71fcee5",
   "metadata": {},
   "outputs": [
    {
     "data": {
      "text/plain": [
       "True"
      ]
     },
     "execution_count": 74,
     "metadata": {},
     "output_type": "execute_result"
    }
   ],
   "source": [
    "send_cmd_esp(ser, \"from exp32\\r\\n\")"
   ]
  },
  {
   "cell_type": "code",
   "execution_count": null,
   "id": "fefdae59",
   "metadata": {},
   "outputs": [],
   "source": []
  },
  {
   "cell_type": "code",
   "execution_count": 75,
   "id": "7f53a4f5",
   "metadata": {},
   "outputs": [
    {
     "name": "stdout",
     "output_type": "stream",
     "text": [
      "b''\n"
     ]
    },
    {
     "data": {
      "text/plain": [
       "''"
      ]
     },
     "execution_count": 75,
     "metadata": {},
     "output_type": "execute_result"
    }
   ],
   "source": [
    "ser.reset_input_buffer()\n",
    "ser.write(\"+++\".encode(\"utf-8\"))\n",
    "time.sleep(0.5)\n",
    "ser.write(\"\\r\\n\".encode(\"utf-8\"))\n",
    "recv_esp(ser)"
   ]
  },
  {
   "cell_type": "code",
   "execution_count": 38,
   "id": "788833cf",
   "metadata": {},
   "outputs": [
    {
     "name": "stdout",
     "output_type": "stream",
     "text": [
      "b'AT+CWMODE=2\\r\\n\\r\\nOK\\r\\n'\n"
     ]
    },
    {
     "data": {
      "text/plain": [
       "'AT+CWMODE=2\\r\\n\\r\\nOK\\r\\n'"
      ]
     },
     "execution_count": 38,
     "metadata": {},
     "output_type": "execute_result"
    }
   ],
   "source": []
  }
 ],
 "metadata": {
  "kernelspec": {
   "display_name": "Python 3 (ipykernel)",
   "language": "python",
   "name": "python3"
  },
  "language_info": {
   "codemirror_mode": {
    "name": "ipython",
    "version": 3
   },
   "file_extension": ".py",
   "mimetype": "text/x-python",
   "name": "python",
   "nbconvert_exporter": "python",
   "pygments_lexer": "ipython3",
   "version": "3.9.13"
  }
 },
 "nbformat": 4,
 "nbformat_minor": 5
}
