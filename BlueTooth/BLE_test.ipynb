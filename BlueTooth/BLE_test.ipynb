{
 "cells": [
  {
   "cell_type": "code",
   "execution_count": 1,
   "id": "0223c22f",
   "metadata": {},
   "outputs": [],
   "source": [
    "import serial\n",
    "import serial.tools.list_ports as list_ports\n",
    "import time"
   ]
  },
  {
   "cell_type": "markdown",
   "id": "6bb995bb",
   "metadata": {},
   "source": [
    "### 寻找可用串口"
   ]
  },
  {
   "cell_type": "code",
   "execution_count": 2,
   "id": "c6e06a22",
   "metadata": {},
   "outputs": [
    {
     "name": "stdout",
     "output_type": "stream",
     "text": [
      "[<serial.tools.list_ports_common.ListPortInfo object at 0x000002D0F257AB20>, <serial.tools.list_ports_common.ListPortInfo object at 0x000002D0F2613EB0>]\n",
      "COM3 - USB-SERIAL CH340 (COM3)\n",
      "COM4 - USB-SERIAL CH340 (COM4)\n"
     ]
    }
   ],
   "source": [
    "port_list = list(list_ports.comports())\n",
    "print(port_list)\n",
    "if len(port_list) == 0:\n",
    "    print(\"无可用串口\")\n",
    "else:\n",
    "    for i in range(len(port_list)):\n",
    "        print(port_list[i])"
   ]
  },
  {
   "cell_type": "code",
   "execution_count": 27,
   "id": "4d2ffd0c",
   "metadata": {},
   "outputs": [
    {
     "data": {
      "text/plain": [
       "<serial.tools.list_ports_common.ListPortInfo at 0x2d0f2bfe280>"
      ]
     },
     "execution_count": 27,
     "metadata": {},
     "output_type": "execute_result"
    }
   ],
   "source": [
    "list(list_ports.comports())[0]"
   ]
  },
  {
   "cell_type": "code",
   "execution_count": 23,
   "id": "d64b5ce2",
   "metadata": {},
   "outputs": [
    {
     "name": "stdout",
     "output_type": "stream",
     "text": [
      "COM3\n"
     ]
    }
   ],
   "source": [
    "print(list(list_ports.comports())[0][0])"
   ]
  },
  {
   "cell_type": "code",
   "execution_count": 28,
   "id": "7f72e10e",
   "metadata": {},
   "outputs": [
    {
     "name": "stdout",
     "output_type": "stream",
     "text": [
      "USB-SERIAL CH340 (COM3)\n"
     ]
    }
   ],
   "source": [
    "print(list(list_ports.comports())[0][1])"
   ]
  },
  {
   "cell_type": "code",
   "execution_count": 29,
   "id": "d159e3f9",
   "metadata": {},
   "outputs": [
    {
     "name": "stdout",
     "output_type": "stream",
     "text": [
      "USB VID:PID=1A86:7523 SER= LOCATION=1-10\n"
     ]
    }
   ],
   "source": [
    "print(list(list_ports.comports())[0][2])"
   ]
  },
  {
   "cell_type": "markdown",
   "id": "2d55942c",
   "metadata": {},
   "source": [
    "### 测试参数"
   ]
  },
  {
   "cell_type": "code",
   "execution_count": 3,
   "id": "5f5000a1",
   "metadata": {},
   "outputs": [],
   "source": [
    "#端口\n",
    "portx = \"COM3\"\n",
    "#波特率，标准值之一：50,75,110,134,150,200,300,600,1200,\n",
    "#1800,2400,4800,9600,19200,38400,57600,115200\n",
    "bps = 115200\n",
    "#超时设置,None：永远等待操作，0为立即返回请求结果，其他值为等待超时时间(单位为秒）\n",
    "timex = 5\n",
    "#bytesize,一字节长度\n",
    "bs = serial.EIGHTBITS\n",
    "#stopbits\n",
    "sb = serial.STOPBITS_ONE\n",
    "#parity\n",
    "pty = serial.PARITY_NONE\n",
    "\n",
    "#RTS/CTS\n",
    "rtscts = False"
   ]
  },
  {
   "cell_type": "markdown",
   "id": "bcbe5a0c",
   "metadata": {},
   "source": [
    "### 更多的参数定义"
   ]
  },
  {
   "cell_type": "code",
   "execution_count": 4,
   "id": "e5c838aa",
   "metadata": {},
   "outputs": [],
   "source": [
    "BLE_NAME = \"BLE_02\"\n",
    "BLE_HELLO = \"HELLO WORLD!\"\n",
    "\n",
    "#工作模式\n",
    "BLE_MODE_M = \"M\" #主模式\n",
    "BLE_MODE_S = \"S\" #从模式\n",
    "BLE_MODE_O = \"O\" #观察模式(不可连接,扫描广播数据)\n",
    "BLE_MODE_B = \"B\" #广播模式(不可连接，广播用户自定义数据)\n",
    "BLE_MODE_I = \"I\" #iBeacon(不可连接,广播特定数据,室内定位)\n",
    "#发射功率\n",
    "BLE_TP_N14dBm = 1 #-14dBm\n",
    "BLE_TP_N11dBm = 2  #-11dBm\n",
    "BLE_TP_N8dBm = 3  #-8dBm\n",
    "BLE_TP_N5dBm = 4  #-5dBm\n",
    "BLE_TP_N2dBm = 5  #-2dBm\n",
    "BLE_TP_P2dBm = 6  #2dBm\n",
    "BLE_TP_P4dBm = 7  #4dBm\n",
    "BLE_TP_P8dBm = 8  #8dBm\n",
    "#串口设置\n",
    "BLE_UARTBPS = 115200 #50,75,110,134,150,200,300,600,1200,1800,2400,4800,9600,19200,38400,57600,115200\n",
    "BLE_UARTDATE = 8     #数据位，bytesize\n",
    "BLE_UARTSTOP = 1     #停止位\n",
    "BLE_UARTPR = 0       #PARITY\n",
    "\n",
    "#超时设置\n",
    "TIMEX = 5\n",
    "\n",
    "#广播速度\n",
    "BLE_ADPTIM = 5  #单位：10ms\n",
    "\n",
    "#链路匹配连接使能\n",
    "BLE_LINKPASSEN = 0\n",
    "\n",
    "#板载LED使能\n",
    "BLE_LEDEN = 1\n",
    "\n",
    "#从设备断连睡眠使能\n",
    "BLE_SLAVESLPPEN = 0\n",
    "\n",
    "#蓝牙最大输出使能\n",
    "BLE_MAXPUT = 0"
   ]
  },
  {
   "cell_type": "markdown",
   "id": "fe7b4e36",
   "metadata": {},
   "source": [
    "### 打印串口信息"
   ]
  },
  {
   "cell_type": "code",
   "execution_count": 5,
   "id": "c7127be9",
   "metadata": {},
   "outputs": [
    {
     "name": "stdout",
     "output_type": "stream",
     "text": [
      "串口详情参数:  Serial<id=0x2d0f2685dc0, open=True>(port='COM3', baudrate=115200, bytesize=8, parity='N', stopbits=1, timeout=5, xonxoff=False, rtscts=False, dsrdtr=False)\n",
      "COM3\n",
      "115200\n",
      "8\n"
     ]
    }
   ],
   "source": [
    "try:\n",
    "    ser = serial.Serial(portx, bps, timeout=5, parity=pty, bytesize=bs, stopbits=sb, rtscts=rtscts)\n",
    "    print(\"串口详情参数: \",ser)\n",
    "    print(ser.port) #port name\n",
    "    print(ser.baudrate)\n",
    "    print(ser.bytesize)\n",
    "except Exception as e:\n",
    "    print(\"-----Error-----\", e)"
   ]
  },
  {
   "cell_type": "code",
   "execution_count": 8,
   "id": "f18f8fe8",
   "metadata": {},
   "outputs": [
    {
     "data": {
      "text/plain": [
       "True"
      ]
     },
     "execution_count": 8,
     "metadata": {},
     "output_type": "execute_result"
    }
   ],
   "source": [
    "ser.rts"
   ]
  },
  {
   "cell_type": "code",
   "execution_count": 9,
   "id": "3008112d",
   "metadata": {},
   "outputs": [],
   "source": [
    "ser.rts = False"
   ]
  },
  {
   "cell_type": "code",
   "execution_count": 10,
   "id": "ff75a922",
   "metadata": {},
   "outputs": [
    {
     "data": {
      "text/plain": [
       "False"
      ]
     },
     "execution_count": 10,
     "metadata": {},
     "output_type": "execute_result"
    }
   ],
   "source": [
    "ser.rts"
   ]
  },
  {
   "cell_type": "code",
   "execution_count": 11,
   "id": "f322ac0b",
   "metadata": {},
   "outputs": [
    {
     "data": {
      "text/plain": [
       "False"
      ]
     },
     "execution_count": 11,
     "metadata": {},
     "output_type": "execute_result"
    }
   ],
   "source": [
    "ser.cts"
   ]
  },
  {
   "cell_type": "markdown",
   "id": "d96f4896",
   "metadata": {},
   "source": [
    "### 读写测试"
   ]
  },
  {
   "cell_type": "code",
   "execution_count": 6,
   "id": "5a7815df",
   "metadata": {},
   "outputs": [],
   "source": [
    "#命令检查函数\n",
    "def ble_cmd_check(ser, ack):\n",
    "    \"\"\"ser: Serial object\"\"\"\n",
    "    \"\"\"ack: acknowledgement\"\"\"\n",
    "    reply = ser.read_all()\n",
    "    if ack in reply.decode(\"utf-8\"):\n",
    "        ##print(\"成功\")\n",
    "        return True\n",
    "    else:\n",
    "        ##print(\"失败，回信为：\", reply.decode(\"utf-8\"))\n",
    "        return False"
   ]
  },
  {
   "cell_type": "code",
   "execution_count": 7,
   "id": "b7022a0f",
   "metadata": {},
   "outputs": [],
   "source": [
    "#写命令函数\n",
    "import time\n",
    "\n",
    "def ble_send_cmd(ser, cmd, ack):\n",
    "    \"\"\"ser: Serial object\"\"\"\n",
    "    \"\"\"cmd: cmd str with 'AT+'\"\"\"\n",
    "    \"\"\"ack: acknoledgement\"\"\"\n",
    "    ser.reset_output_buffer()\n",
    "    ser.reset_input_buffer()\n",
    "    if ser.writable():\n",
    "        ser.write((cmd+\"\\r\\n\").encode(\"utf-8\"))\n",
    "        time.sleep(0.1) #wait for 10 ms\n",
    "        if ble_cmd_check(ser, ack):\n",
    "            ##print(\"成功发送命令：\", cmd)\n",
    "            return True;\n",
    "        else:\n",
    "            print(\"失败发送命令：\", cmd)\n",
    "            return False\n",
    "    else:\n",
    "        print(ser.port, \" is not writable\")\n",
    "        return False"
   ]
  },
  {
   "cell_type": "code",
   "execution_count": 8,
   "id": "c91156be",
   "metadata": {},
   "outputs": [
    {
     "name": "stdout",
     "output_type": "stream",
     "text": [
      "接收缓存字节数： 0\n",
      "发送缓存字节数： 0\n",
      "接收缓存字节数： 0\n",
      "回复为： b'a+ok\\r\\n'\n"
     ]
    }
   ],
   "source": [
    "if ser.writable():\n",
    "    ser.reset_input_buffer()\n",
    "    ser.reset_output_buffer()\n",
    "    print(\"接收缓存字节数：\", ser.inWaiting())\n",
    "    print(\"发送缓存字节数：\", ser.out_waiting)\n",
    "    try:\n",
    "        ser.write(\"+++a\\r\\n\".encode(\"utf-8\"))\n",
    "    except Exception as e:\n",
    "        print(\"--Writing Error--\", e)\n",
    "    #不能使用read_line,因为成功收到的数据为“b'\\r\\nOK\\r\\n'”\n",
    "    time.sleep(0.01)\n",
    "    reply = ser.read_all()\n",
    "    print(\"接收缓存字节数：\", ser.inWaiting())\n",
    "    print(\"回复为：\", reply)\n",
    "    \n",
    "else:\n",
    "    print(ser.port, \" is not writable\")"
   ]
  },
  {
   "cell_type": "code",
   "execution_count": 9,
   "id": "dec77b92",
   "metadata": {},
   "outputs": [
    {
     "name": "stdout",
     "output_type": "stream",
     "text": [
      "失败发送命令： +++a\n",
      "失败进入配置模式\n"
     ]
    }
   ],
   "source": [
    "if ser.writable():\n",
    "    cmd = \"+++a\"\n",
    "    #进入配置模式\n",
    "    if ble_send_cmd(ser, cmd, \"a+ok\"):\n",
    "        print(\"进入配置模式\")\n",
    "    else:\n",
    "        print(\"失败进入配置模式\")\n",
    "else:\n",
    "    print(ser.port, \" is not writable\")"
   ]
  },
  {
   "cell_type": "code",
   "execution_count": 16,
   "id": "9a741942",
   "metadata": {},
   "outputs": [
    {
     "data": {
      "text/plain": [
       "True"
      ]
     },
     "execution_count": 16,
     "metadata": {},
     "output_type": "execute_result"
    }
   ],
   "source": [
    "ble_send_cmd(ser, \"AT+ENTM\", \"OK\")"
   ]
  },
  {
   "cell_type": "code",
   "execution_count": 17,
   "id": "9e0504a1",
   "metadata": {},
   "outputs": [
    {
     "name": "stdout",
     "output_type": "stream",
     "text": [
      "失败发送命令： AT+HELLO?\n"
     ]
    },
    {
     "data": {
      "text/plain": [
       "False"
      ]
     },
     "execution_count": 17,
     "metadata": {},
     "output_type": "execute_result"
    }
   ],
   "source": [
    "ble_send_cmd(ser, \"AT+HELLO?\", \"OK\")"
   ]
  },
  {
   "cell_type": "markdown",
   "id": "e2a90b08",
   "metadata": {},
   "source": [
    "### BLE模块参数配置"
   ]
  },
  {
   "cell_type": "code",
   "execution_count": 18,
   "id": "540a271d",
   "metadata": {},
   "outputs": [
    {
     "name": "stdout",
     "output_type": "stream",
     "text": [
      "6\n"
     ]
    }
   ],
   "source": [
    "temp = \"%d\" % (BLE_TP_P2dBm)\n",
    "print(temp)"
   ]
  },
  {
   "cell_type": "code",
   "execution_count": 10,
   "id": "8ee243c3",
   "metadata": {},
   "outputs": [],
   "source": [
    "def ble_set_init(ser):\n",
    "    \"\"\"SER: Serial object\"\"\"\n",
    "    #进入配置模式\n",
    "    while ble_send_cmd(ser, \"+++a\", \"a+ok\") == False:\n",
    "        if ble_send_cmd(ser, \"+++a\", \"ERROR\") == True: #已经在配置模式\n",
    "            break\n",
    "        time.sleep(0.1)\n",
    "    \n",
    "    #AT test\n",
    "    if ble_send_cmd(ser, \"AT\", \"OK\") == True:\n",
    "        print(\"AT OK\")\n",
    "    \n",
    "    #蓝牙名称设置\n",
    "    name_cmd = \"AT+NAME=\"+BLE_NAME\n",
    "    if ble_send_cmd(ser, name_cmd, \"OK\") == True:\n",
    "        print(name_cmd, \" OK\")\n",
    "    else:\n",
    "        print(name_cmd, \" ERROR\")\n",
    "    \n",
    "    #开机欢迎语设定\n",
    "    hello_cmd = \"AT+HELLO=\" + BLE_HELLO\n",
    "    if ble_send_cmd(ser, hello_cmd, \"OK\") == True:\n",
    "        print(hello_cmd, \" OK\")\n",
    "    else:\n",
    "        print(hello_cmd, \" ERROR\") \n",
    "    \n",
    "    #发射功率设置\n",
    "    ble_tp = \"AT+TPL=%d\" % BLE_TP_P2dBm\n",
    "    if ble_send_cmd(ser, ble_tp, \"OK\") == True:\n",
    "        print(ble_tp, \" OK\")\n",
    "    else:\n",
    "        print(ble_tp, \" ERROR\")\n",
    "        \n",
    "    #串口设置\n",
    "    ble_uart = \"AT+UART=%d,%d,%d,%d\" % (BLE_UARTBPS, BLE_UARTDATE, BLE_UARTPR, BLE_UARTSTOP)\n",
    "    if ble_send_cmd(ser, ble_uart, \"OK\") == True:\n",
    "        print(ble_uart, \" OK\")\n",
    "    else:\n",
    "        print(ble_uart, \" ERROR\")\n",
    "    \n",
    "    #广播速度设置\n",
    "    ble_adptim = \"AT+ADPTIM=%d\" % (BLE_ADPTIM)\n",
    "    if ble_send_cmd(ser, ble_adptim, \"OK\"):\n",
    "        print(ble_adptim, \" OK\")\n",
    "    else:\n",
    "        print(ble_adptim, \" ERROR\")\n",
    "    \n",
    "    #链路匹配连接设置\n",
    "    if BLE_LINKPASSEN == 1:\n",
    "        if ble_send_cmd(ser, \"AT+LINKPASSEN=ON\", \"OK\"):\n",
    "            print(\"AT+LINKPASSEN=ON\", \" OK\")\n",
    "        else:\n",
    "            print(\"AT+LINKPASSEN=ON\", \" ERROR\")\n",
    "    else:\n",
    "        if ble_send_cmd(ser, \"AT+LINKPASSEN=OFF\", \"OK\"):\n",
    "            print(\"AT+LINKPASSEN=OFF\", \" OK\")\n",
    "        else:\n",
    "            print(\"AT+LINKPASSEN=OFF\", \" ERROR\")\n",
    "    \n",
    "    #板载LED设置\n",
    "    if BLE_LEDEN == 1:\n",
    "        if ble_send_cmd(ser, \"AT+LEDEN=ON\", \"OK\"):\n",
    "            print(\"AT+LEDEN=ON\", \" OK\")\n",
    "        else:\n",
    "            print(\"AT+LEDEN=ON\", \" ERROR\")\n",
    "    else:\n",
    "        if ble_send_cmd(ser, \"AT+LEDEN=OFF\", \"OK\"):\n",
    "            print(\"AT+LEDEN=OFF\", \" OK\")\n",
    "        else:\n",
    "            print(\"AT+LEDEN=OFF\", \" ERROR\")\n",
    "    #从设备断连睡眠设置\n",
    "    if BLE_SLAVESLPPEN == 1:\n",
    "        if ble_send_cmd(ser, \"AT+SLAVESLEEPEN=ON\", \"OK\"):\n",
    "            print(\"AT+SLAVESLEEPEN=ON\", \" OK\")\n",
    "        else:\n",
    "            print(\"AT+SLAVESLEEPEN=ON\", \" ERROR\")\n",
    "    else:\n",
    "        if ble_send_cmd(ser, \"AT+SLAVESLEEPEN=OFF\", \"OK\"):\n",
    "            print(\"AT+SLAVESLEEPEN=OFF\", \" OK\")\n",
    "        else:\n",
    "            print(\"AT+SLAVESLEEPEN=OFF\", \" ERROR\")\n",
    "    \n",
    "    #蓝牙最大输出设置\n",
    "    if BLE_MAXPUT == 1:\n",
    "        if ble_send_cmd(ser, \"AT+SLAVESLEEPEN=ON\", \"OK\"):\n",
    "            print(\"AT+SLAVESLEEPEN=ON\", \" OK\")\n",
    "        else:\n",
    "            print(\"AT+SLAVESLEEPEN=ON\", \" ERROR\")\n",
    "    else:\n",
    "        if ble_send_cmd(ser, \"AT+SLAVESLEEPEN=OFF\", \"OK\"):\n",
    "            print(\"AT+SLAVESLEEPEN=OFF\", \" OK\")\n",
    "        else:\n",
    "            print(\"AT+SLAVESLEEPEN=OFF\", \" ERROR\")\n",
    "    \n",
    "    ble_mode = \"AT+MODE=%c\" % BLE_MODE_S\n",
    "    if ble_send_cmd(ser, ble_mode, \"OK\"):\n",
    "        print(ble_mode, \" OK\")\n",
    "    else:\n",
    "        print(ble_mode, \" ERROR\")\n",
    "    "
   ]
  },
  {
   "cell_type": "code",
   "execution_count": 11,
   "id": "11553258",
   "metadata": {},
   "outputs": [
    {
     "name": "stdout",
     "output_type": "stream",
     "text": [
      "失败发送命令： +++a\n",
      "AT OK\n",
      "AT+NAME=BLE_02  OK\n",
      "AT+HELLO=HELLO WORLD!  OK\n",
      "AT+TPL=6  OK\n",
      "AT+UART=115200,8,0,1  OK\n",
      "AT+ADPTIM=5  OK\n",
      "AT+LINKPASSEN=OFF  OK\n",
      "AT+LEDEN=ON  OK\n",
      "AT+SLAVESLEEPEN=OFF  OK\n",
      "AT+SLAVESLEEPEN=OFF  OK\n",
      "AT+MODE=S  OK\n"
     ]
    }
   ],
   "source": [
    "ble_set_init(ser)"
   ]
  },
  {
   "cell_type": "markdown",
   "id": "ea6ceb32",
   "metadata": {},
   "source": [
    "### BLE模块发送接收处理"
   ]
  },
  {
   "cell_type": "code",
   "execution_count": 12,
   "id": "d005c2d0",
   "metadata": {},
   "outputs": [],
   "source": [
    "def ble_inquiry_cmd(ser, cmd):\n",
    "    \"\"\"\n",
    "    ser: Serial object\n",
    "    cmd: cmd str with 'AT+'\n",
    "    \"\"\"\n",
    "    while ble_send_cmd(ser, \"+++a\", \"a+ok\") == False:\n",
    "        if ble_send_cmd(ser, \"+++a\", \"ERROR\") == True: #已经在配置模式\n",
    "            break\n",
    "        time.sleep(0.1)\n",
    "    ser.reset_output_buffer()\n",
    "    ser.reset_input_buffer()\n",
    "    if ser.writable():\n",
    "        ser.write((cmd+\"\\r\\n\").encode(\"utf-8\"))\n",
    "        time.sleep(0.1) #wait for 10 ms\n",
    "        reply = ser.read_all()\n",
    "        print(\"Reply is: \", reply.decode(\"utf-8\"))\n",
    "    else:\n",
    "        print(ser.port, \" is not writable\")\n",
    "        return False"
   ]
  },
  {
   "cell_type": "code",
   "execution_count": 13,
   "id": "2b6b1dd3",
   "metadata": {},
   "outputs": [],
   "source": [
    "def ble_set_cmd(ser, cmd, ack):\n",
    "    \"\"\"\n",
    "    ser: Serial object\n",
    "    cmd: cmd str with 'AT+'\n",
    "    ack: acknowledgement str\n",
    "    \"\"\"\n",
    "    while ble_send_cmd(ser, \"+++a\", \"a+ok\") == False:\n",
    "        if ble_send_cmd(ser, \"+++a\", \"ERROR\") == True: #已经在配置模式\n",
    "            break\n",
    "        time.sleep(0.1)\n",
    "    if ble_send_cmd(ser, cmd, ack):\n",
    "        return True\n",
    "    else:\n",
    "        return False"
   ]
  },
  {
   "cell_type": "code",
   "execution_count": 14,
   "id": "0712eaee",
   "metadata": {},
   "outputs": [],
   "source": [
    "#未考虑buffer溢出的问题\n",
    "\n",
    "def ble_send_data(ser, data, encoding):\n",
    "    \"\"\"\n",
    "    ser: Serial object\n",
    "    data: str\n",
    "    encoding: encoding format\n",
    "    \"\"\"\n",
    "    if ser.writable():\n",
    "        ser.reset_output_buffer()\n",
    "        if encoding == \"\":\n",
    "            ser.write(data)\n",
    "        else:\n",
    "            ser.write(data.encode(encoding))\n",
    "    else:\n",
    "        print(\"Fail to write: \", data)\n",
    "        \n",
    "def ble_rece_data(ser, decoding):\n",
    "    \"\"\"\n",
    "    ser: Serial object\n",
    "    decoding: decoding format\n",
    "    \"\"\"\n",
    "    if decoding == \"\":\n",
    "        res = ser.read_all()\n",
    "    else:\n",
    "        res = ser.read_all().decode(decoding)\n",
    "    ser.reset_input_buffer()\n",
    "    return res"
   ]
  },
  {
   "cell_type": "code",
   "execution_count": null,
   "id": "29f1befa",
   "metadata": {},
   "outputs": [],
   "source": [
    "ser.read"
   ]
  },
  {
   "cell_type": "code",
   "execution_count": null,
   "id": "6f638b32",
   "metadata": {},
   "outputs": [],
   "source": [
    "ble_send_data(ser, \"LED0:OFF\", \"utf-8\")"
   ]
  },
  {
   "cell_type": "code",
   "execution_count": null,
   "id": "a6002ee4",
   "metadata": {},
   "outputs": [],
   "source": [
    "ble_inquiry_cmd(ser, \"AT+LINK?\")"
   ]
  },
  {
   "cell_type": "code",
   "execution_count": null,
   "id": "74d81bf6",
   "metadata": {},
   "outputs": [],
   "source": [
    "ble_inquiry_cmd(ser, \"AT+NAME?\")"
   ]
  },
  {
   "cell_type": "code",
   "execution_count": 15,
   "id": "7266b999",
   "metadata": {},
   "outputs": [
    {
     "data": {
      "text/plain": [
       "True"
      ]
     },
     "execution_count": 15,
     "metadata": {},
     "output_type": "execute_result"
    }
   ],
   "source": [
    "ble_set_cmd(ser, \"AT+DISCONN\", \"OK\")"
   ]
  },
  {
   "cell_type": "code",
   "execution_count": 18,
   "id": "d2b4eecd",
   "metadata": {},
   "outputs": [
    {
     "name": "stdout",
     "output_type": "stream",
     "text": [
      "失败发送命令： +++a\n",
      "Reply is:  \n",
      "PeerAddr:84C2E4408C1A                     \n",
      "Rssi:-55 dBm                     \n",
      "+LINK:OnLine                     \n",
      "\n",
      "OK\n",
      "\n"
     ]
    }
   ],
   "source": [
    "ble_inquiry_cmd(ser, \"AT+LINK?\")"
   ]
  },
  {
   "cell_type": "code",
   "execution_count": 17,
   "id": "4385db35",
   "metadata": {},
   "outputs": [
    {
     "name": "stdout",
     "output_type": "stream",
     "text": [
      "Reply is:  \r\n",
      "+MAC:84C2E4408770\r\n",
      "\r\n",
      "OK\r\n",
      "\n"
     ]
    }
   ],
   "source": [
    "ble_inquiry_cmd(ser, \"AT+MAC?\")"
   ]
  },
  {
   "cell_type": "code",
   "execution_count": 16,
   "id": "1a54695f",
   "metadata": {},
   "outputs": [
    {
     "name": "stdout",
     "output_type": "stream",
     "text": [
      "失败发送命令： +++a\n"
     ]
    },
    {
     "data": {
      "text/plain": [
       "True"
      ]
     },
     "execution_count": 16,
     "metadata": {},
     "output_type": "execute_result"
    }
   ],
   "source": [
    "ble_set_cmd(ser, \"AT+ENTM\", \"OK\")"
   ]
  },
  {
   "cell_type": "markdown",
   "id": "85e0048c",
   "metadata": {},
   "source": [
    "### 测试手机蓝牙的结果"
   ]
  },
  {
   "cell_type": "code",
   "execution_count": 27,
   "id": "770b3b53",
   "metadata": {},
   "outputs": [
    {
     "name": "stdout",
     "output_type": "stream",
     "text": [
      "hello world!\n"
     ]
    }
   ],
   "source": [
    "print(ble_rece_data(ser, \"utf-8\"))"
   ]
  },
  {
   "cell_type": "markdown",
   "id": "4e1a17de",
   "metadata": {},
   "source": [
    "### 测试主从模透的结果"
   ]
  },
  {
   "cell_type": "code",
   "execution_count": 22,
   "id": "5aeac5a2",
   "metadata": {},
   "outputs": [
    {
     "name": "stdout",
     "output_type": "stream",
     "text": [
      "ATK-BLE01 TEST 0\r\n",
      "\n"
     ]
    }
   ],
   "source": [
    "print(ble_rece_data(ser, \"utf-8\"))"
   ]
  },
  {
   "cell_type": "code",
   "execution_count": 17,
   "id": "708a9416",
   "metadata": {},
   "outputs": [],
   "source": [
    "ble_send_data(ser, \"test2\", \"utf-8\")"
   ]
  },
  {
   "cell_type": "markdown",
   "id": "1431a3fd",
   "metadata": {},
   "source": [
    "### 正则表达式测试"
   ]
  },
  {
   "cell_type": "code",
   "execution_count": 31,
   "id": "bca0a59d",
   "metadata": {},
   "outputs": [],
   "source": [
    "import re"
   ]
  },
  {
   "cell_type": "code",
   "execution_count": 36,
   "id": "00249014",
   "metadata": {},
   "outputs": [
    {
     "name": "stdout",
     "output_type": "stream",
     "text": [
      "None\n"
     ]
    }
   ],
   "source": [
    "pattern = r'AT\\+[A-Z]*'\n",
    "string = \"AT+name+\"\n",
    "print(re.fullmatch(pattern, string))"
   ]
  },
  {
   "cell_type": "code",
   "execution_count": 37,
   "id": "79bf5b92",
   "metadata": {},
   "outputs": [
    {
     "name": "stdout",
     "output_type": "stream",
     "text": [
      "<re.Match object; span=(0, 7), match='AT+NAME'>\n"
     ]
    }
   ],
   "source": [
    "pattern = r'AT\\+[A-Z]*'\n",
    "string = \"AT+NAME\"\n",
    "print(re.fullmatch(pattern, string))"
   ]
  },
  {
   "cell_type": "code",
   "execution_count": 39,
   "id": "0479ab7c",
   "metadata": {},
   "outputs": [
    {
     "name": "stdout",
     "output_type": "stream",
     "text": [
      "<re.Match object; span=(0, 8), match='AT+NAME?'>\n"
     ]
    }
   ],
   "source": [
    "pattern = r'AT\\+[A-Z]*\\?'\n",
    "string = \"AT+NAME?\"\n",
    "print(re.fullmatch(pattern, string))"
   ]
  },
  {
   "cell_type": "markdown",
   "id": "576d27e7",
   "metadata": {},
   "source": [
    "### 通信语句解析"
   ]
  },
  {
   "cell_type": "code",
   "execution_count": 6,
   "id": "fe0e9aee",
   "metadata": {},
   "outputs": [
    {
     "name": "stdout",
     "output_type": "stream",
     "text": [
      "sdihisd\r",
      "sdasds\n"
     ]
    }
   ],
   "source": [
    "print(\"sdihisd\\rsdasds\")"
   ]
  },
  {
   "cell_type": "code",
   "execution_count": 1,
   "id": "26c53732",
   "metadata": {},
   "outputs": [],
   "source": [
    "import re\n",
    "\n",
    "def dataParser(data):\n",
    "    \"\"\"\n",
    "    data: str, should match 'row+col+value'\n",
    "    return: \n",
    "    return None if the format of data is wrong\n",
    "    return (row, col, val)\n",
    "    \"\"\"\n",
    "    data = data.replace(\"\\r\", \"\")\n",
    "    if re.fullmatch(r'[0-9]+\\+[0-9]+\\+[0-9]+', data) == None:\n",
    "        return None\n",
    "    data_list = data.split('+')\n",
    "    return (int(data_list[0]), int(data_list[1]), int(data_list[2]))"
   ]
  },
  {
   "cell_type": "code",
   "execution_count": 19,
   "id": "0839d442",
   "metadata": {},
   "outputs": [
    {
     "name": "stdout",
     "output_type": "stream",
     "text": [
      "None\n"
     ]
    }
   ],
   "source": [
    "print(dataParser(\"+232+2323\\r\"))"
   ]
  },
  {
   "cell_type": "code",
   "execution_count": 20,
   "id": "3aa459a5",
   "metadata": {},
   "outputs": [],
   "source": [
    "row, col, val = dataParser(\"232+2323+2323\")"
   ]
  },
  {
   "cell_type": "code",
   "execution_count": 21,
   "id": "0f8173fe",
   "metadata": {},
   "outputs": [
    {
     "name": "stdout",
     "output_type": "stream",
     "text": [
      "232 2323 2323\n"
     ]
    }
   ],
   "source": [
    "print(row, col, val)"
   ]
  },
  {
   "cell_type": "code",
   "execution_count": 2,
   "id": "279b20ab",
   "metadata": {},
   "outputs": [
    {
     "name": "stdout",
     "output_type": "stream",
     "text": [
      "(0, 1, 2706)\n"
     ]
    }
   ],
   "source": [
    "print(dataParser(\"0+1+2706\"))"
   ]
  }
 ],
 "metadata": {
  "kernelspec": {
   "display_name": "Python 3 (ipykernel)",
   "language": "python",
   "name": "python3"
  },
  "language_info": {
   "codemirror_mode": {
    "name": "ipython",
    "version": 3
   },
   "file_extension": ".py",
   "mimetype": "text/x-python",
   "name": "python",
   "nbconvert_exporter": "python",
   "pygments_lexer": "ipython3",
   "version": "3.9.13"
  }
 },
 "nbformat": 4,
 "nbformat_minor": 5
}
